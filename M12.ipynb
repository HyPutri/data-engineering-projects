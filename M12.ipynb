{
 "cells": [
  {
   "cell_type": "markdown",
   "id": "69ba06e1",
   "metadata": {},
   "source": [
    "# Studi Kasus"
   ]
  },
  {
   "cell_type": "markdown",
   "id": "fad660d2",
   "metadata": {},
   "source": [
    "### Tutorial-01:"
   ]
  },
  {
   "cell_type": "markdown",
   "id": "403125de",
   "metadata": {},
   "source": [
    "Diberikan 4 file CSV yang berisi data retail setiap kuartal, yaitu retail_data (1 until 3).csv, retail_data (4 until 6).csv, retail_data (7 until 9).csv, dan retail_data (10 until 12).csv. Gabungkan keempat file tersebut menjadi 1 data frame."
   ]
  },
  {
   "cell_type": "code",
   "execution_count": 5,
   "id": "9180544d",
   "metadata": {},
   "outputs": [
    {
     "name": "stdout",
     "output_type": "stream",
     "text": [
      "<class 'pandas.core.frame.DataFrame'>\n",
      "RangeIndex: 277160 entries, 0 to 277159\n",
      "Data columns (total 10 columns):\n",
      " #   Column       Non-Null Count   Dtype  \n",
      "---  ------       --------------   -----  \n",
      " 0   order_id     277160 non-null  int64  \n",
      " 1   order_date   277160 non-null  object \n",
      " 2   customer_id  277160 non-null  int64  \n",
      " 3   city         277160 non-null  object \n",
      " 4   province     277159 non-null  object \n",
      " 5   product_id   277159 non-null  object \n",
      " 6   brand        277159 non-null  object \n",
      " 7   quantity     277157 non-null  float64\n",
      " 8   item_price   277157 non-null  float64\n",
      " 9   total_price  277157 non-null  float64\n",
      "dtypes: float64(3), int64(2), object(5)\n",
      "memory usage: 21.1+ MB\n",
      "None\n"
     ]
    }
   ],
   "source": [
    "import pandas as pd\n",
    "\n",
    "file_paths = [\n",
    "    'retail_data (1 until 3).csv',\n",
    "    'retail_data (4 until 6).csv',\n",
    "    'retail_data (7 until 9).csv',\n",
    "    'retail_data (10 until 12).csv'\n",
    "]\n",
    "\n",
    "data_frames = []\n",
    "\n",
    "for file_path in file_paths:\n",
    "    df = pd.read_csv(file_path)\n",
    "    data_frames.append(df)\n",
    "\n",
    "merged_df = pd.concat(data_frames, ignore_index=True)\n",
    "print(merged_df.info())\n",
    "\n",
    "merged_df.to_csv('retail_data_combined.csv', index=False)"
   ]
  },
  {
   "cell_type": "markdown",
   "id": "b33cbf72",
   "metadata": {},
   "source": [
    "### Tutorial-02:"
   ]
  },
  {
   "cell_type": "markdown",
   "id": "7a7f2215",
   "metadata": {},
   "source": [
    "Lakukan transformasi data sebagai berikut.\n",
    "- Jika terdapat data yang tidak seharusnya, maka dapat dibuang.\n",
    "- Jika terdapat kolom yang tipe datanya kurang sesuai, maka lakukan perubahan tipe data."
   ]
  },
  {
   "cell_type": "code",
   "execution_count": 15,
   "id": "9a966fc2",
   "metadata": {},
   "outputs": [
    {
     "name": "stdout",
     "output_type": "stream",
     "text": [
      "<class 'pandas.core.frame.DataFrame'>\n",
      "Int64Index: 287693 entries, 0 to 287694\n",
      "Data columns (total 10 columns):\n",
      " #   Column       Non-Null Count   Dtype         \n",
      "---  ------       --------------   -----         \n",
      " 0   order_id     287693 non-null  int64         \n",
      " 1   order_date   287693 non-null  datetime64[ns]\n",
      " 2   customer_id  287693 non-null  int64         \n",
      " 3   city         287693 non-null  object        \n",
      " 4   province     287693 non-null  object        \n",
      " 5   product_id   287693 non-null  object        \n",
      " 6   brand        287693 non-null  object        \n",
      " 7   quantity     287693 non-null  float64       \n",
      " 8   item_price   287693 non-null  float64       \n",
      " 9   total_price  287693 non-null  float64       \n",
      "dtypes: datetime64[ns](1), float64(3), int64(2), object(4)\n",
      "memory usage: 24.1+ MB\n",
      "None\n"
     ]
    }
   ],
   "source": [
    "import pandas as pd\n",
    "\n",
    "file_paths = [\n",
    "    'retail_data (1 until 3).csv',\n",
    "    'retail_data (4 until 6).csv',\n",
    "    'retail_data (7 until 9).csv',\n",
    "    'retail_data (10 until 12).csv'\n",
    "]\n",
    "\n",
    "data_frames = []\n",
    "\n",
    "for file_path in file_paths:\n",
    "    df = pd.read_csv(file_path)\n",
    "    data_frames.append(df)\n",
    "    \n",
    "merged_df = pd.concat(data_frames, ignore_index=True)\n",
    "merged_df.to_csv('retail_data_combined.csv', index=False)\n",
    "\n",
    "# Hapus baris dengan nilai null\n",
    "merged_df = merged_df.dropna()\n",
    "\n",
    "# Ubah tipe data kolom order_date menjadi datetime\n",
    "merged_df['order_date'] = pd.to_datetime(merged_df['order_date'])\n",
    "\n",
    "print(merged_df.info())"
   ]
  },
  {
   "cell_type": "markdown",
   "id": "67094083",
   "metadata": {},
   "source": [
    "### Tutorial-03:"
   ]
  },
  {
   "cell_type": "markdown",
   "id": "956dbb28",
   "metadata": {},
   "source": [
    "Filter provinsi yang termasuk 5 provinsi besar di Pulau Jawa, yaitu DKI Jakarta, Jawa Barat, Jawa Tengah, Jawa Timur, dan Yogyakarta."
   ]
  },
  {
   "cell_type": "code",
   "execution_count": 21,
   "id": "d9d3b73e",
   "metadata": {},
   "outputs": [
    {
     "name": "stdout",
     "output_type": "stream",
     "text": [
      "        order_id order_date  customer_id             city     province  \\\n",
      "0        1612339 2019-01-01        18055  Jakarta Selatan  DKI Jakarta   \n",
      "1        1612339 2019-01-01        18055  Jakarta Selatan  DKI Jakarta   \n",
      "2        1612339 2019-01-01        18055  Jakarta Selatan  DKI Jakarta   \n",
      "3        1612339 2019-01-01        18055  Jakarta Selatan  DKI Jakarta   \n",
      "4        1612339 2019-01-01        18055  Jakarta Selatan  DKI Jakarta   \n",
      "...          ...        ...          ...              ...          ...   \n",
      "287690   1727656 2019-06-12        16460    Jakarta Utara  DKI Jakarta   \n",
      "287691   1727656 2019-06-12        16460    Jakarta Utara  DKI Jakarta   \n",
      "287692   1727656 2019-06-12        16460    Jakarta Utara  DKI Jakarta   \n",
      "287693   1727656 2019-06-12        16460    Jakarta Utara  DKI Jakarta   \n",
      "287694   1727656 2019-06-12        16460    Jakarta Utara  DKI Jakarta   \n",
      "\n",
      "       product_id    brand  quantity  item_price  total_price  \n",
      "0           P0648  BRAND_C       4.0   1934000.0    7736000.0  \n",
      "1           P3826  BRAND_V       8.0    604000.0    4832000.0  \n",
      "2           P1508  BRAND_G      12.0    747000.0    8964000.0  \n",
      "3           P0520  BRAND_B      12.0    450000.0    5400000.0  \n",
      "4           P1513  BRAND_G       3.0   1500000.0    4500000.0  \n",
      "...           ...      ...       ...         ...          ...  \n",
      "287690      P4067  BRAND_W       6.0   2795000.0   16770000.0  \n",
      "287691      P2598  BRAND_P       6.0    695000.0    4170000.0  \n",
      "287692      P0156  BRAND_A       3.0   2095000.0    6285000.0  \n",
      "287693      P3020  BRAND_R      10.0    590000.0    5900000.0  \n",
      "287694      P3025  BRAND_R      10.0    590000.0    5900000.0  \n",
      "\n",
      "[181637 rows x 10 columns]\n"
     ]
    }
   ],
   "source": [
    "filter_prov = ['DKI Jakarta', 'Jawa Barat', 'Jawa Tengah', 'Jawa Timur', 'Yogyakarta']\n",
    "\n",
    "filtered_df = merged_df[merged_df['province'].isin(filter_prov)]\n",
    "\n",
    "# Tampilkan hasil filter\n",
    "print(filtered_df)"
   ]
  },
  {
   "cell_type": "markdown",
   "id": "bcf80228",
   "metadata": {},
   "source": [
    "### Tutorial-04:"
   ]
  },
  {
   "cell_type": "markdown",
   "id": "c0d44300",
   "metadata": {},
   "source": [
    "Kelompokkan data berdasarkan order_date dan province yang sudah di-filter serta hitung order unique count, customer unique count, product unique count, brand unique count, dan sum total_price."
   ]
  },
  {
   "cell_type": "code",
   "execution_count": 25,
   "id": "147b6723",
   "metadata": {},
   "outputs": [
    {
     "name": "stdout",
     "output_type": "stream",
     "text": [
      "    order_date     province  order_id  customer_id  product_id  brand  \\\n",
      "0   2019-01-01  DKI Jakarta        34           33         328     22   \n",
      "1   2019-01-01   Jawa Barat        11            9         136     18   \n",
      "2   2019-01-01  Jawa Tengah         4            4         116     20   \n",
      "3   2019-01-01   Jawa Timur         6            6          83     15   \n",
      "4   2019-01-01   Yogyakarta         7            4          88     16   \n",
      "..         ...          ...       ...          ...         ...    ...   \n",
      "826 2019-12-11  DKI Jakarta        37           33         509     23   \n",
      "827 2019-12-11   Jawa Barat        12           12         307     22   \n",
      "828 2019-12-11  Jawa Tengah         4            4          43     16   \n",
      "829 2019-12-11   Jawa Timur         7            7         165     21   \n",
      "830 2019-12-11   Yogyakarta         7            7         286     22   \n",
      "\n",
      "      total_price  \n",
      "0    4.717083e+09  \n",
      "1    1.557289e+09  \n",
      "2    3.520520e+08  \n",
      "3    1.106603e+09  \n",
      "4    9.454007e+09  \n",
      "..            ...  \n",
      "826  5.376243e+09  \n",
      "827  1.576344e+09  \n",
      "828  3.979390e+08  \n",
      "829  8.529370e+08  \n",
      "830  2.736811e+09  \n",
      "\n",
      "[831 rows x 7 columns]\n"
     ]
    }
   ],
   "source": [
    "filter_prov = ['DKI Jakarta', 'Jawa Barat', 'Jawa Tengah', 'Jawa Timur', 'Yogyakarta']\n",
    "filtered_df = merged_df[merged_df['province'].isin(filter_prov)]\n",
    "\n",
    "gabungan_df = filtered_df.groupby(['order_date', 'province']).agg({\n",
    "    'order_id': 'nunique',       # Jumlah order unik\n",
    "    'customer_id': 'nunique',    # Jumlah pelanggan unik\n",
    "    'product_id': 'nunique',     # Jumlah produk unik\n",
    "    'brand': 'nunique',          # Jumlah merek unik\n",
    "    'total_price': 'sum'         # Jumlah total harga\n",
    "}).reset_index()\n",
    "\n",
    "print(gabungan_df)"
   ]
  },
  {
   "cell_type": "code",
   "execution_count": null,
   "id": "5f22a5fd-8050-4848-a35d-8ef75a30a6f8",
   "metadata": {},
   "outputs": [],
   "source": []
  }
 ],
 "metadata": {
  "kernelspec": {
   "display_name": "anaconda-2022.05-py39",
   "language": "python",
   "name": "conda-env-anaconda-2022.05-py39-py"
  },
  "language_info": {
   "codemirror_mode": {
    "name": "ipython",
    "version": 3
   },
   "file_extension": ".py",
   "mimetype": "text/x-python",
   "name": "python",
   "nbconvert_exporter": "python",
   "pygments_lexer": "ipython3",
   "version": "3.9.12"
  }
 },
 "nbformat": 4,
 "nbformat_minor": 5
}
