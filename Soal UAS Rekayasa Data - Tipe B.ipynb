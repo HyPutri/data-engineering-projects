{
 "cells": [
  {
   "cell_type": "markdown",
   "id": "5e68ccde",
   "metadata": {},
   "source": [
    "<h1 align=\"center\"><font size=\"5\">Ujian Akhir Semester</font></h1>\n",
    "<h2 align=\"center\"><font size=\"4\">Rekayasa Data (IF2106) - Tipe B</font></h2>"
   ]
  },
  {
   "cell_type": "markdown",
   "id": "108961f5",
   "metadata": {},
   "source": [
    "<h2>Daftar Isi</h2>\n",
    "<div class=\"alert alert-block alert-info\" style=\"margin-top: 20px\">\n",
    "    <ul>\n",
    "    <li><a href=\"#Identitas-Kelompok\">Identitas Kelompok</a></li>\n",
    "    <li><a href=\"#Identitas-Anggota\">Identitas Anggota</a></li>\n",
    "    <li><a href=\"#Kontribusi-Setiap-Anggota\">Kontribusi Setiap Anggota</a></li>\n",
    "    <li><a href=\"#Deskripsi-Proyek\">Deskripsi Proyek</a></li>\n",
    "    <li><a href=\"#Tahap-1:-Menentukan-Pertanyaan-Bisnis\">Tahap 1: Menentukan Pertanyaan Bisnis</a></li>\n",
    "    <li><a href=\"#Tahap-2:-Menyiapkan-Library\">Tahap 2: Menyiapkan Library</a></li>\n",
    "    <li><a href=\"#Tahap-3:-Mengumpulkan-Data\">Tahap 3: Mengumpulkan Data</a></li>\n",
    "    <li><a href=\"#Tahap-4:-Menilai-Data\">Tahap 4: Menilai Data</a></li>\n",
    "    <li><a href=\"#Tahap-5:-Membersihkan-Data\">Tahap 5: Membersihkan Data</a></li>\n",
    "    <li><a href=\"#Tahap-6:-Mengeksplorasi-dan-Menganalisis-Data\">Tahap 6: Mengeksplorasi dan Menganalisis Data</a></li>\n",
    "    <li><a href=\"#Tahap-7:-Memvisualisasikan-Data\">Tahap 7: Memvisualisasikan Data</a></li>\n",
    "    <li><a href=\"#Tahap-8:-Membuat-Kesimpulan\">Tahap 8: Membuat Kesimpulan</a></li>\n",
    "    </ul>\n",
    "</a></li>\n",
    "</div>"
   ]
  },
  {
   "cell_type": "markdown",
   "id": "d02919d2",
   "metadata": {},
   "source": [
    "## Identitas Kelompok"
   ]
  },
  {
   "cell_type": "markdown",
   "id": "2f818938",
   "metadata": {},
   "source": [
    "Tuliskan nomor kelompok sesuai yang sudah ditentukan sebelumnya."
   ]
  },
  {
   "cell_type": "markdown",
   "id": "8845b033",
   "metadata": {},
   "source": [
    "#### Nomor Kelompok:"
   ]
  },
  {
   "cell_type": "markdown",
   "id": "cc3771cb",
   "metadata": {},
   "source": [
    "## Identitas Anggota"
   ]
  },
  {
   "cell_type": "markdown",
   "id": "60bca683",
   "metadata": {},
   "source": [
    "Tuliskan identitas dari setiap anggota, meliputi NIM dan nama mahasiswa."
   ]
  },
  {
   "cell_type": "markdown",
   "id": "89e682fc",
   "metadata": {},
   "source": [
    "#### NIM Anggota-1: {221113251 }, Nama Anggota-1: { Yohan Tegar Suranta Bangun }\n",
    "#### NIM Anggota-2: {221113556 }, Nama Anggota-2: { Yohannes Claudius Barus }\n",
    "#### NIM Anggota-3: {221112050 }, Nama Anggota-3: { Helga Yuliani Putri Aritonang}\n",
    "#### NIM Anggota-4: {221113032 }, Nama Anggota-4: { Wibowo Harianja }\n",
    "#### NIM Anggota-5: {221112997 }, Nama Anggota-5: { Muhammad Atila Gading}\n",
    "#### NIM Anggota-6: {221113514 }, Nama Anggota-6: { Lusiana Novika Togatorop }"
   ]
  },
  {
   "cell_type": "markdown",
   "id": "30a101e5",
   "metadata": {},
   "source": [
    "## Kontribusi Setiap Anggota"
   ]
  },
  {
   "cell_type": "markdown",
   "id": "ad814f5e",
   "metadata": {},
   "source": [
    "Tuliskan kontribusi dari setiap anggota di dalam pengerjaan soal UAS berbasis proyek ini."
   ]
  },
  {
   "cell_type": "markdown",
   "id": "573187ed",
   "metadata": {},
   "source": [
    "#### Anggota-1: { }\n",
    "#### Anggota-2: { }\n",
    "#### Anggota-3: { }\n",
    "#### Anggota-4: { }\n",
    "#### Anggota-5: { }"
   ]
  },
  {
   "cell_type": "markdown",
   "id": "8788442b",
   "metadata": {},
   "source": [
    "## Deskripsi Proyek"
   ]
  },
  {
   "cell_type": "markdown",
   "id": "e0252b1f",
   "metadata": {},
   "source": [
    "Pada UAS berbasis proyek ini, kelompok Anda harus melakukan seluruh proses analisis data, mulai dari mendefinisikan pertanyaan bisnis (pertanyaan analisis) yang ingin dijawab melalui proses analisis data hingga membuat kesimpulan dari hasil analisis (berupa visualisasi data untuk menjawab pertanyaan bisnis yang telah dibuat)."
   ]
  },
  {
   "cell_type": "markdown",
   "id": "5c308716",
   "metadata": {},
   "source": [
    "Untuk <b>tipe B</b>, lakukan analisis terhadap dataset <a href=\"https://mikroskilacid-my.sharepoint.com/:x:/g/personal/gunawan_mikroskil_ac_id/EUH7zDfaCjxJrR323meJWdsBi9laSZs9lVO9kty5XDZeoQ?e=T12Ep2\">sales_data.csv</a> yang berisi data transaksi penjualan. Lakukan analisis dengan tepat untuk mendapatkan insight/informasi sebanyak mungkin dari dataset tersebut. Penjelasan dari setiap kolom yang terdapat di dataset tersebut adalah sebagai berikut."
   ]
  },
  {
   "cell_type": "markdown",
   "id": "f5b84ca6",
   "metadata": {},
   "source": [
    "<table>\n",
    "    <thead>\n",
    "      <tr>\n",
    "        <th>No.</th>\n",
    "        <th>Nama Kolom</th>\n",
    "        <th>Penjelasan</th>\n",
    "      </tr>\n",
    "    </thead>\n",
    "    <tbody>\n",
    "      <tr>\n",
    "        <td>1</td>\n",
    "        <td>invoice_no</td>\n",
    "        <td>nomor transaksi penjualan</td>\n",
    "      </tr>\n",
    "      <tr>\n",
    "        <td>2</td>\n",
    "        <td>customer_id</td>\n",
    "        <td>kode pelanggan yang melakukan pembelian</td>\n",
    "      </tr>\n",
    "      <tr>\n",
    "        <td>3</td>\n",
    "        <td>category</td>\n",
    "        <td>kategori barang yang dibeli pelanggan</td>\n",
    "      </tr>\n",
    "      <tr>\n",
    "        <td>4</td>\n",
    "        <td>quantity</td>\n",
    "        <td>jumlah barang yang dibeli pelanggan</td>\n",
    "      </tr>\n",
    "      <tr>\n",
    "        <td>5</td>\n",
    "        <td>price</td>\n",
    "        <td>harga barang yang dibeli pelanggan</td>\n",
    "      <tr>\n",
    "        <td>6</td>\n",
    "        <td>invoice_date</td>\n",
    "        <td>tanggal terjadinya transaksi penjualan</td>\n",
    "      </tr>\n",
    "      <tr>\n",
    "        <td>7</td>\n",
    "        <td>shopping_mall</td>\n",
    "        <td>tempat terjadinya transaksi penjualan</td>\n",
    "      </tr>\n",
    "    </tbody>\n",
    "</table>"
   ]
  },
  {
   "cell_type": "markdown",
   "id": "675ef26c",
   "metadata": {
    "jp-MarkdownHeadingCollapsed": true,
    "tags": []
   },
   "source": [
    "## Tahap 1: Menentukan Pertanyaan Bisnis"
   ]
  },
  {
   "cell_type": "markdown",
   "id": "0fc2e6ff",
   "metadata": {},
   "source": [
    "Pada tahap ini, silahkan tentukan minimal 3 (tiga) pertanyaan bisnis yang akan dijawab berdasarkan dataset yang telah ditentukan di atas (analisis dan pahami data apa saja yang disimpan di masing-masing kolom)"
   ]
  },
  {
   "cell_type": "code",
   "execution_count": null,
   "id": "2c92b7f1-6175-446f-b90d-2a7476a6421d",
   "metadata": {},
   "outputs": [],
   "source": [
    "1. Pertanyaan Bisnis: Analisis Kategori Produk\n",
    "   - Bagaimana distribusi penjualan berdasarkan kategori produk? Apakah ada kategori yang mendominasi penjualan?\n",
    "\n",
    "2. Pertanyaan Bisnis: Kinerja Toko di Shopping Mall\n",
    "   - Toko mana yang memiliki performa penjualan terbaik berdasarkan total omzet? Apakah terdapat perbedaan signifikan antara shopping mall satu dengan yang lain?\n",
    "\n",
    "3. Pertanyaan Bisnis: Trend Penjualan Berdasarkan Tanggal\n",
    "   - Bagaimana tren penjualan sepanjang waktu berdasarkan tanggal transaksi? Apakah terdapat pola tertentu, seperti peningkatan penjualan pada bulan-bulan tertentu atau hari-hari tertentu?\n",
    "\n",
    "4. Pertanyaan Bisnis: Pelanggan Paling Aktif\n",
    "   - Siapa pelanggan yang paling aktif berdasarkan jumlah transaksi atau total belanja? Adakah pola pembelian yang dapat diidentifikasi dari pelanggan-pelanggan tersebut?\n",
    "\n",
    "5. Pertanyaan Bisnis: Hubungan Antara Jumlah Barang dan Harga\n",
    "   - Apakah terdapat korelasi antara jumlah barang yang dibeli oleh pelanggan dengan harga barang? Misalnya, apakah pelanggan cenderung membeli lebih banyak barang dengan harga yang lebih tinggi?\n",
    "\n",
    "6. Pertanyaan Bisnis: Preferensi Pembelian di Setiap Shopping Mall\n",
    "   - Apakah terdapat perbedaan preferensi pembelian di setiap shopping mall? Misalnya, apakah kategori tertentu lebih populer di satu mall dibandingkan yang lain?\n",
    "\n",
    "7. Pertanyaan Bisnis: Hubungan Antara Kategori dan Shopping Mall\n",
    "   - Apakah terdapat keterkaitan antara kategori produk yang dijual dan lokasi shopping mall? Misalnya, apakah certain shopping mall lebih cenderung menjual produk tertentu?\n",
    "    \n",
    "8. Pertanyaan Bisnis: Evaluasi Kinerja Produk Terlaris\n",
    "    - Produk apa yang paling laris terjual berdasarkan jumlah barang atau total omzet? Adakah pola khusus yang dapat membantu dalam manajemen stok atau promosi produk?"
   ]
  },
  {
   "cell_type": "markdown",
   "id": "d9c96950",
   "metadata": {},
   "source": [
    "## Tahap 2: Menyiapkan Library"
   ]
  },
  {
   "cell_type": "markdown",
   "id": "5e650e31",
   "metadata": {},
   "source": [
    "Sebelum memulai proyek, pastikan telah mengimpor semua library yang dibutuhkan untuk mengerjakan proyeknya"
   ]
  },
  {
   "cell_type": "code",
   "execution_count": 23,
   "id": "9070a5ad",
   "metadata": {},
   "outputs": [],
   "source": [
    "import pandas as pd\n",
    "#Alasan:\n",
    "#Pandas digunakan untuk manipulasi dan analisis data tabular. Dengan Pandas, Anda dapat dengan mudah membaca data dari file CSV ke dalam DataFrame, melakukan operasi seperti filtering, grouping, dan agregasi data.\n",
    "\n",
    "import numpy as np\n",
    "#Alasan:\n",
    "#NumPy menyediakan struktur data array dan fungsi operasi matematika. Pandas, yang memanfaatkan NumPy di balik layar, membutuhkan NumPy untuk beberapa operasi dasar, terutama jika Anda perlu melakukan manipulasi data tingkat rendah.\n",
    "\n",
    "import matplotlib.pyplot as plt\n",
    "#Alasan:\n",
    "#Matplotlib adalah library untuk membuat visualisasi grafik dan plot. Dengan Matplotlib, Anda dapat membuat grafik batang, garis, dan diagram lainnya untuk menganalisis dan memvisualisasikan data penjualan.\n",
    "\n",
    "import seaborn as sns\n",
    "#Alasan:\n",
    "#Seaborn adalah library visualisasi data tingkat tinggi yang berdasarkan Matplotlib. Seaborn memudahkan pembuatan plot statistik yang lebih indah dan informatif dengan sedikit kode tambahan.\n",
    "\n",
    "from datetime import datetime\n",
    "#Alasan:\n",
    "#Library datetime digunakan untuk bekerja dengan data tanggal dan waktu. Dalam proyek ini, Anda dapat mengonversi kolom invoice_date ke format datetime untuk melakukan analisis berbasis waktu."
   ]
  },
  {
   "cell_type": "markdown",
   "id": "3321cb95",
   "metadata": {},
   "source": [
    "## Tahap 3: Mengumpulkan Data"
   ]
  },
  {
   "cell_type": "markdown",
   "id": "d1e7566c",
   "metadata": {},
   "source": [
    "Pada tahap ini, lakukan pengumpulan data dari dataset yang telah ditentukan di atas"
   ]
  },
  {
   "cell_type": "code",
   "execution_count": 14,
   "id": "b2c6c6aa",
   "metadata": {},
   "outputs": [
    {
     "name": "stdout",
     "output_type": "stream",
     "text": [
      "5 Data Pertama:\n",
      "  invoice_no customer_id  category  quantity    price invoice_date  \\\n",
      "0    I138884     C241288  Clothing         5  1500.40   05-08-2022   \n",
      "1    I317333     C111565     Shoes         3  1800.51   12-12-2021   \n",
      "2    I127801     C266599  Clothing         1   300.08   09-11-2021   \n",
      "3    I173702     C988172     Shoes         5  3000.85   16-05-2021   \n",
      "4    I337046     C189076     Books         4    60.60   24-10-2021   \n",
      "\n",
      "    shopping_mall  \n",
      "0          Kanyon  \n",
      "1  Forum Istanbul  \n",
      "2       Metrocity  \n",
      "3    Metropol AVM  \n",
      "4          Kanyon  \n",
      "\n",
      "5 Data Terakhir:\n",
      "      invoice_no customer_id         category  quantity    price invoice_date  \\\n",
      "99452    I219422     C441542         Souvenir         5    58.65   21-09-2022   \n",
      "99453    I325143     C569580  Food & Beverage         2    10.46   22-09-2021   \n",
      "99454    I824010     C103292  Food & Beverage         2    10.46   28-03-2021   \n",
      "99455    I702964     C800631       Technology         4  4200.00   16-03-2021   \n",
      "99456    I232867     C273973         Souvenir         3    35.19   15-10-2022   \n",
      "\n",
      "          shopping_mall  \n",
      "99452            Kanyon  \n",
      "99453    Forum Istanbul  \n",
      "99454         Metrocity  \n",
      "99455      Istinye Park  \n",
      "99456  Mall of Istanbul  \n"
     ]
    }
   ],
   "source": [
    "import pandas as pd\n",
    "\n",
    "# Membaca data dari dataset\n",
    "sales_data = pd.read_csv('sales_data.csv')\n",
    "\n",
    "# Menampilkan 5 data pertama\n",
    "print(\"5 Data Pertama:\")\n",
    "print(sales_data.head())\n",
    "\n",
    "# Menampilkan 5 data terakhir\n",
    "print(\"\\n5 Data Terakhir:\")\n",
    "print(sales_data.tail())"
   ]
  },
  {
   "cell_type": "markdown",
   "id": "5d1f1cb1",
   "metadata": {},
   "source": [
    "## Tahap 4: Menilai Data"
   ]
  },
  {
   "cell_type": "markdown",
   "id": "385bd108",
   "metadata": {},
   "source": [
    "Pada tahap ini bisa dilakukan pengecekan tipe data, missing value, duplikasi data, keanehan pada nilai statistik, dan sebagainya"
   ]
  },
  {
   "cell_type": "code",
   "execution_count": 19,
   "id": "b527a4bf",
   "metadata": {},
   "outputs": [
    {
     "name": "stdout",
     "output_type": "stream",
     "text": [
      "Tipe Data Setiap Kolom:\n",
      "invoice_no        object\n",
      "customer_id       object\n",
      "category          object\n",
      "quantity           int64\n",
      "price            float64\n",
      "invoice_date      object\n",
      "shopping_mall     object\n",
      "dtype: object\n",
      "\n",
      "\n",
      "Jumlah Missing Value Setiap Kolom:\n",
      "invoice_no       0\n",
      "customer_id      0\n",
      "category         0\n",
      "quantity         0\n",
      "price            0\n",
      "invoice_date     0\n",
      "shopping_mall    8\n",
      "dtype: int64\n",
      "\n",
      "\n",
      "Jumlah Duplikasi Data:\n",
      "0\n",
      "\n",
      "\n",
      "Statistik Deskriptif:\n",
      "           quantity         price\n",
      "count  99457.000000  99457.000000\n",
      "mean       3.003429    689.256321\n",
      "std        1.413025    941.184567\n",
      "min        1.000000      5.230000\n",
      "25%        2.000000     45.450000\n",
      "50%        3.000000    203.300000\n",
      "75%        4.000000   1200.320000\n",
      "max        5.000000   5250.000000\n",
      "\n",
      "\n",
      "Jumlah Nilai Unik Setiap Kolom:\n",
      "invoice_no       99457\n",
      "customer_id      99457\n",
      "category             8\n",
      "quantity             5\n",
      "price               40\n",
      "invoice_date       797\n",
      "shopping_mall       10\n",
      "dtype: int64\n",
      "\n",
      "\n",
      "Distribusi Variabel Kategorikal:\n",
      "Clothing           34487\n",
      "Cosmetics          15097\n",
      "Food & Beverage    14776\n",
      "Toys               10087\n",
      "Shoes              10034\n",
      "Souvenir            4999\n",
      "Technology          4996\n",
      "Books               4981\n",
      "Name: category, dtype: int64\n",
      "\n",
      "\n",
      "Nilai Mencurigakan pada Kolom 'quantity':\n",
      "Empty DataFrame\n",
      "Columns: [invoice_no, customer_id, category, quantity, price, invoice_date, shopping_mall]\n",
      "Index: []\n",
      "\n",
      "\n"
     ]
    }
   ],
   "source": [
    "# Pengecekan Tipe Data\n",
    "data_types = sales_data.dtypes\n",
    "print(\"Tipe Data Setiap Kolom:\")\n",
    "print(data_types)\n",
    "print(\"\\n\")\n",
    "\n",
    "# Pengecekan Missing Value\n",
    "missing_values = sales_data.isnull().sum()\n",
    "print(\"Jumlah Missing Value Setiap Kolom:\")\n",
    "print(missing_values)\n",
    "print(\"\\n\")\n",
    "\n",
    "# Pengecekan Duplikasi Data\n",
    "duplicate_rows = sales_data.duplicated().sum()\n",
    "print(\"Jumlah Duplikasi Data:\")\n",
    "print(duplicate_rows)\n",
    "print(\"\\n\")\n",
    "\n",
    "# Statistik Deskriptif\n",
    "statistics_summary = sales_data.describe()\n",
    "print(\"Statistik Deskriptif:\")\n",
    "print(statistics_summary)\n",
    "print(\"\\n\")\n",
    "\n",
    "# Nilai Unik Setiap Kolom\n",
    "unique_values = sales_data.nunique()\n",
    "print(\"Jumlah Nilai Unik Setiap Kolom:\")\n",
    "print(unique_values)\n",
    "print(\"\\n\")\n",
    "\n",
    "#Pola Kategori dan Frekuensinya\n",
    "categorical_distribution = sales_data['category'].value_counts()\n",
    "print(\"Distribusi Variabel Kategorikal:\")\n",
    "print(categorical_distribution)\n",
    "print(\"\\n\")\n",
    "\n",
    "# \\Pencarian nilai yang mencurigakan pada kolom 'quantity'\n",
    "suspicious_values = sales_data[sales_data['quantity'] < 0]\n",
    "print(\"Nilai Mencurigakan pada Kolom 'quantity':\")\n",
    "print(suspicious_values)\n",
    "print(\"\\n\")"
   ]
  },
  {
   "cell_type": "markdown",
   "id": "1c711f0c",
   "metadata": {
    "tags": []
   },
   "source": [
    "## Tahap 5: Membersihkan Data"
   ]
  },
  {
   "cell_type": "markdown",
   "id": "54a3da91",
   "metadata": {},
   "source": [
    "Pada tahap ini bisa dilakukan penghapusan terhadap kolom yang tidak dibutuhkan, mengubah tipe data yang tidak sesuai, melakukan transformasi data, menambah kolom yang dibutuhkan, dan sebagainya"
   ]
  },
  {
   "cell_type": "code",
   "execution_count": 18,
   "id": "ea93aec7",
   "metadata": {},
   "outputs": [
    {
     "name": "stdout",
     "output_type": "stream",
     "text": [
      "Data setelah penghapusan kolom 'customer_id':\n",
      "  invoice_no customer_id  category  quantity    price invoice_date  \\\n",
      "0    I138884     C241288  Clothing         5  1500.40   2022-08-05   \n",
      "1    I317333     C111565     Shoes         3  1800.51   2021-12-12   \n",
      "2    I127801     C266599  Clothing         1   300.08   2021-11-09   \n",
      "4    I337046     C189076     Books         4    60.60   2021-10-24   \n",
      "5    I227836     C657758  Clothing         5  1500.40   2022-05-24   \n",
      "\n",
      "    shopping_mall  normalized_quantity  normalized_price  total_price  \n",
      "0          Kanyon                 1.00          0.285078      7502.00  \n",
      "1  Forum Istanbul                 0.50          0.342299      5401.53  \n",
      "2       Metrocity                 0.00          0.056218       300.08  \n",
      "4          Kanyon                 0.75          0.010557       242.40  \n",
      "5  Forum Istanbul                 1.00          0.285078      7502.00  \n",
      "\n",
      "Data setelah perubahan tipe data 'invoice_date' dan penambahan kolom:\n",
      "  invoice_date  normalized_quantity  normalized_price  total_price\n",
      "0   2022-08-05                 1.00          0.285078      7502.00\n",
      "1   2021-12-12                 0.50          0.342299      5401.53\n",
      "2   2021-11-09                 0.00          0.056218       300.08\n",
      "4   2021-10-24                 0.75          0.010557       242.40\n",
      "5   2022-05-24                 1.00          0.285078      7502.00\n",
      "\n",
      "Total penjualan per kategori:\n",
      "          category   total_price\n",
      "0            Books  8.345529e+05\n",
      "1         Clothing  1.139968e+08\n",
      "2        Cosmetics  6.792863e+06\n",
      "3  Food & Beverage  8.495351e+05\n",
      "4            Shoes  6.655345e+07\n",
      "5         Souvenir  6.358247e+05\n",
      "6       Technology  5.786235e+07\n",
      "7             Toys  3.980426e+06\n",
      "\n",
      "Data setelah penghapusan outliers pada kolom 'price':\n",
      "  invoice_no customer_id  category  quantity    price invoice_date  \\\n",
      "0    I138884     C241288  Clothing         5  1500.40   2022-08-05   \n",
      "1    I317333     C111565     Shoes         3  1800.51   2021-12-12   \n",
      "2    I127801     C266599  Clothing         1   300.08   2021-11-09   \n",
      "4    I337046     C189076     Books         4    60.60   2021-10-24   \n",
      "5    I227836     C657758  Clothing         5  1500.40   2022-05-24   \n",
      "\n",
      "    shopping_mall  normalized_quantity  normalized_price  total_price  \n",
      "0          Kanyon                 1.00          0.285078      7502.00  \n",
      "1  Forum Istanbul                 0.50          0.342299      5401.53  \n",
      "2       Metrocity                 0.00          0.056218       300.08  \n",
      "4          Kanyon                 0.75          0.010557       242.40  \n",
      "5  Forum Istanbul                 1.00          0.285078      7502.00  \n",
      "\n",
      "Info data setelah penghapusan missing value:\n",
      "<class 'pandas.core.frame.DataFrame'>\n",
      "Int64Index: 94426 entries, 0 to 99456\n",
      "Data columns (total 10 columns):\n",
      " #   Column               Non-Null Count  Dtype         \n",
      "---  ------               --------------  -----         \n",
      " 0   invoice_no           94426 non-null  object        \n",
      " 1   customer_id          94426 non-null  object        \n",
      " 2   category             94426 non-null  object        \n",
      " 3   quantity             94426 non-null  int64         \n",
      " 4   price                94426 non-null  float64       \n",
      " 5   invoice_date         94426 non-null  datetime64[ns]\n",
      " 6   shopping_mall        94426 non-null  object        \n",
      " 7   normalized_quantity  94426 non-null  float64       \n",
      " 8   normalized_price     94426 non-null  float64       \n",
      " 9   total_price          94426 non-null  float64       \n",
      "dtypes: datetime64[ns](1), float64(4), int64(1), object(4)\n",
      "memory usage: 7.9+ MB\n",
      "None\n"
     ]
    }
   ],
   "source": [
    "import pandas as pd\n",
    "\n",
    "# Assuming you have read the data first and created sales_data_cleaned\n",
    "sales_data_cleaned = pd.read_csv('sales_data.csv')\n",
    "\n",
    "# Mengubah tipe data kolom 'invoice_date' menjadi datetime dengan format yang sesuai\n",
    "sales_data_cleaned['invoice_date'] = pd.to_datetime(sales_data_cleaned['invoice_date'], format='%d-%m-%Y', errors='coerce')\n",
    "\n",
    "# Contoh: Normalisasi kolom 'quantity' dan 'price'\n",
    "sales_data_cleaned['normalized_quantity'] = (sales_data_cleaned['quantity'] - sales_data_cleaned['quantity'].min()) / (sales_data_cleaned['quantity'].max() - sales_data_cleaned['quantity'].min())\n",
    "sales_data_cleaned['normalized_price'] = (sales_data_cleaned['price'] - sales_data_cleaned['price'].min()) / (sales_data_cleaned['price'].max() - sales_data_cleaned['price'].min())\n",
    "\n",
    "# Menambah kolom 'total_price', total harga (total_price) yang merupakan hasil perkalian antara quantity dan price.\n",
    "sales_data_cleaned['total_price'] = sales_data_cleaned['quantity'] * sales_data_cleaned['price']\n",
    "\n",
    "# Pengelompokan data dan menghitung total penjualan per kategori\n",
    "total_sales_per_category = sales_data_cleaned.groupby('category')['total_price'].sum().reset_index()\n",
    "\n",
    "# Contoh: Menghapus outliers pada kolom 'price'\n",
    "sales_data_cleaned = sales_data_cleaned[sales_data_cleaned['price'] < sales_data_cleaned['price'].quantile(0.95)]\n",
    "\n",
    "# Contoh: Menghapus baris dengan missing value\n",
    "sales_data_cleaned = sales_data_cleaned.dropna()\n",
    "\n",
    "print(\"Data setelah penghapusan kolom 'customer_id':\")\n",
    "print(sales_data_cleaned.head())\n",
    "\n",
    "print(\"\\nData setelah perubahan tipe data 'invoice_date' dan penambahan kolom:\")\n",
    "print(sales_data_cleaned[['invoice_date', 'normalized_quantity', 'normalized_price', 'total_price']].head())\n",
    "\n",
    "print(\"\\nTotal penjualan per kategori:\")\n",
    "print(total_sales_per_category)\n",
    "\n",
    "print(\"\\nData setelah penghapusan outliers pada kolom 'price':\")\n",
    "print(sales_data_cleaned.head())\n",
    "\n",
    "print(\"\\nInfo data setelah penghapusan missing value:\")\n",
    "print(sales_data_cleaned.info())\n"
   ]
  },
  {
   "cell_type": "markdown",
   "id": "540831c5",
   "metadata": {},
   "source": [
    "## Tahap 6: Mengeksplorasi dan Menganalisis Data"
   ]
  },
  {
   "cell_type": "markdown",
   "id": "8a23f9fa",
   "metadata": {},
   "source": [
    "Pada tahap ini bisa dilakukan pengelompokkan terhadap data berdasarkan kolom tertentu untuk dianalisis, mencari hubungan di antara kolom, melakukan filtrasi data, dan sebagainya"
   ]
  },
  {
   "cell_type": "code",
   "execution_count": 32,
   "id": "952006cf",
   "metadata": {},
   "outputs": [
    {
     "name": "stdout",
     "output_type": "stream",
     "text": [
      "Statistik Deskriptif untuk Data Numerik:\n",
      "           quantity         price  normalized_quantity  normalized_price  \\\n",
      "count  94426.000000  94426.000000         94426.000000      94426.000000   \n",
      "mean       2.929214    528.120740             0.482304          0.099698   \n",
      "std        1.399878    614.197929             0.349970          0.117107   \n",
      "min        1.000000      5.230000             0.000000          0.000000   \n",
      "25%        2.000000     40.660000             0.250000          0.006755   \n",
      "50%        3.000000    203.300000             0.500000          0.037765   \n",
      "75%        4.000000    900.240000             0.750000          0.170648   \n",
      "max        5.000000   2400.680000             1.000000          0.456731   \n",
      "\n",
      "        total_price         month  \n",
      "count  94426.000000  94426.000000  \n",
      "mean    1786.189638      6.109949  \n",
      "std     2504.680935      3.570981  \n",
      "min        5.230000      1.000000  \n",
      "25%      130.750000      3.000000  \n",
      "50%      573.440000      6.000000  \n",
      "75%     2700.720000      9.000000  \n",
      "max     9602.720000     12.000000  \n",
      "\n",
      "Distribusi Kategori Barang:\n",
      "Clothing           34484\n",
      "Cosmetics          15094\n",
      "Food & Beverage    14776\n",
      "Toys               10087\n",
      "Shoes               8021\n",
      "Souvenir            4999\n",
      "Books               4981\n",
      "Technology          1984\n",
      "Name: category, dtype: int64\n"
     ]
    },
    {
     "data": {
      "image/png": "[encoded data removed]",
      "text/plain": [
       "<Figure size 576x288 with 1 Axes>"
      ]
     },
     "metadata": {
      "needs_background": "light"
     },
     "output_type": "display_data"
    },
    {
     "name": "stdout",
     "output_type": "stream",
     "text": [
      "\n",
      "Total Penjualan per Kategori:\n",
      "          category   total_price\n",
      "0            Books  8.345529e+05\n",
      "1         Clothing  1.139905e+08\n",
      "2        Cosmetics  6.791968e+06\n",
      "3  Food & Beverage  8.495351e+05\n",
      "4            Shoes  3.634990e+07\n",
      "5         Souvenir  6.358247e+05\n",
      "6       Technology  5.230050e+06\n",
      "7             Toys  3.980426e+06\n"
     ]
    },
    {
     "data": {
      "image/png": "[encoded data removed]",
      "text/plain": [
       "<Figure size 576x288 with 1 Axes>"
      ]
     },
     "metadata": {
      "needs_background": "light"
     },
     "output_type": "display_data"
    },
    {
     "data": {
      "image/png": "[encoded data removed]",
      "text/plain": [
       "<Figure size 576x288 with 1 Axes>"
      ]
     },
     "metadata": {
      "needs_background": "light"
     },
     "output_type": "display_data"
    },
    {
     "name": "stdout",
     "output_type": "stream",
     "text": [
      "\n",
      "Total Penjualan per Bulan:\n",
      "    month  total_price\n",
      "0       1  19748484.20\n",
      "1       2  17549976.41\n",
      "2       3  15132384.75\n",
      "3       4  13007595.23\n",
      "4       5  13180875.60\n",
      "5       6  12464924.05\n",
      "6       7  13816186.84\n",
      "7       8  12575434.54\n",
      "8       9  12382653.16\n",
      "9      10  13229939.18\n",
      "10     11  12567848.20\n",
      "11     12  13006440.64\n"
     ]
    },
    {
     "data": {
      "image/png": "[encoded data removed]",
      "text/plain": [
       "<Figure size 576x288 with 1 Axes>"
      ]
     },
     "metadata": {
      "needs_background": "light"
     },
     "output_type": "display_data"
    }
   ],
   "source": [
    "# Menampilkan statistik deskriptif untuk data numerik\n",
    "print(\"Statistik Deskriptif untuk Data Numerik:\")\n",
    "print(sales_data_cleaned.describe())\n",
    "\n",
    "# Menampilkan distribusi kategori barang\n",
    "print(\"\\nDistribusi Kategori Barang:\")\n",
    "print(sales_data_cleaned['category'].value_counts())\n",
    "\n",
    "# Visualisasi distribusi harga\n",
    "import matplotlib.pyplot as plt\n",
    "import seaborn as sns\n",
    "\n",
    "plt.figure(figsize=(8, 4))\n",
    "sns.histplot(sales_data_cleaned['price'], bins=30, kde=True)\n",
    "plt.title('Distribusi Harga Barang')\n",
    "plt.xlabel('Harga')\n",
    "plt.show()\n",
    "\n",
    "# Total penjualan per kategori\n",
    "total_sales_per_category = sales_data_cleaned.groupby('category')['total_price'].sum().reset_index()\n",
    "\n",
    "print(\"\\nTotal Penjualan per Kategori:\")\n",
    "print(total_sales_per_category)\n",
    "\n",
    "# Visualisasi total penjualan per kategori\n",
    "plt.figure(figsize=(8, 4))\n",
    "sns.barplot(x='category', y='total_price', data=total_sales_per_category)\n",
    "plt.title('Total Penjualan per Kategori')\n",
    "plt.xlabel('Kategori Barang')\n",
    "plt.ylabel('Total Penjualan')\n",
    "plt.show()\n",
    "\n",
    "# Scatter plot untuk melihat hubungan antara quantity dan harga\n",
    "plt.figure(figsize=(8, 4))\n",
    "sns.scatterplot(x='quantity', y='price', data=sales_data_cleaned)\n",
    "plt.title('Hubungan antara Quantity dan Harga')\n",
    "plt.xlabel('Quantity')\n",
    "plt.ylabel('Harga')\n",
    "plt.show()\n",
    "\n",
    "# Analisis Time Series: Total Penjualan per Bulan\n",
    "sales_data_cleaned['month'] = sales_data_cleaned['invoice_date'].dt.month\n",
    "total_sales_per_month = sales_data_cleaned.groupby('month')['total_price'].sum().reset_index()\n",
    "\n",
    "print(\"\\nTotal Penjualan per Bulan:\")\n",
    "print(total_sales_per_month)\n",
    "\n",
    "# Visualisasi total penjualan per bulan\n",
    "plt.figure(figsize=(8, 4))\n",
    "sns.lineplot(x='month', y='total_price', data=total_sales_per_month)\n",
    "plt.title('Total Penjualan per Bulan')\n",
    "plt.xlabel('Bulan')\n",
    "plt.ylabel('Total Penjualan')\n",
    "plt.show()"
   ]
  },
  {
   "cell_type": "markdown",
   "id": "48e860c3",
   "metadata": {},
   "source": [
    "## Tahap 7: Memvisualisasikan Data"
   ]
  },
  {
   "cell_type": "markdown",
   "id": "3a4bd72c",
   "metadata": {
    "jupyter": {
     "source_hidden": true
    },
    "tags": []
   },
   "source": [
    "Pada tahap ini, sajikan informasi dalam format gambar/grafik untuk setiap pertanyaan bisnis"
   ]
  },
  {
   "cell_type": "code",
   "execution_count": 30,
   "id": "2c67e5c9",
   "metadata": {},
   "outputs": [
    {
     "data": {
      "image/png": "[encoded data removed]",
      "text/plain": [
       "<Figure size 576x288 with 1 Axes>"
      ]
     },
     "metadata": {
      "needs_background": "light"
     },
     "output_type": "display_data"
    },
    {
     "data": {
      "image/png": "[encoded data removed]",
      "text/plain": [
       "<Figure size 576x288 with 1 Axes>"
      ]
     },
     "metadata": {
      "needs_background": "light"
     },
     "output_type": "display_data"
    },
    {
     "data": {
      "image/png": "[encoded data removed]",
      "text/plain": [
       "<Figure size 576x288 with 1 Axes>"
      ]
     },
     "metadata": {
      "needs_background": "light"
     },
     "output_type": "display_data"
    },
    {
     "data": {
      "image/png": "[encoded data removed]",
      "text/plain": [
       "<Figure size 576x288 with 1 Axes>"
      ]
     },
     "metadata": {
      "needs_background": "light"
     },
     "output_type": "display_data"
    }
   ],
   "source": [
    "# Visualisasi distribusi kategori barang\n",
    "plt.figure(figsize=(8, 4))\n",
    "sns.countplot(x='category', data=sales_data_cleaned)\n",
    "plt.title('Distribusi Kategori Barang')\n",
    "plt.xlabel('Kategori Barang')\n",
    "plt.ylabel('Jumlah Transaksi')\n",
    "plt.show()\n",
    "\n",
    "# Visualisasi total penjualan per kategori\n",
    "plt.figure(figsize=(8, 4))\n",
    "sns.barplot(x='category', y='total_price', data=total_sales_per_category)\n",
    "plt.title('Total Penjualan per Kategori')\n",
    "plt.xlabel('Kategori Barang')\n",
    "plt.ylabel('Total Penjualan')\n",
    "plt.show()\n",
    "\n",
    "# Scatter plot untuk melihat hubungan antara quantity dan harga\n",
    "plt.figure(figsize=(8, 4))\n",
    "sns.scatterplot(x='quantity', y='price', data=sales_data_cleaned)\n",
    "plt.title('Hubungan antara Quantity dan Harga')\n",
    "plt.xlabel('Quantity')\n",
    "plt.ylabel('Harga')\n",
    "plt.show()\n",
    "\n",
    "# Visualisasi total penjualan per bulan\n",
    "plt.figure(figsize=(8, 4))\n",
    "sns.lineplot(x='month', y='total_price', data=total_sales_per_month)\n",
    "plt.title('Total Penjualan per Bulan')\n",
    "plt.xlabel('Bulan')\n",
    "plt.ylabel('Total Penjualan')\n",
    "plt.show()"
   ]
  },
  {
   "cell_type": "markdown",
   "id": "fc17ccff",
   "metadata": {},
   "source": [
    "## Tahap 8: Membuat Kesimpulan"
   ]
  },
  {
   "cell_type": "markdown",
   "id": "2a8c771a",
   "metadata": {},
   "source": [
    "Berikan kesimpulan untuk setiap pertanyaan berdasarkan keseluruhan tahapan yang telah dilakukan sebelumnya"
   ]
  },
  {
   "cell_type": "code",
   "execution_count": 8,
   "id": "f56cc2ce",
   "metadata": {},
   "outputs": [],
   "source": [
    "1. **Pertanyaan Bisnis: Analisis Kategori Produk**\n",
    "   - Jawaban: Dari analisis data, kategori \"Clothing\" mendominasi penjualan dengan jumlah transaksi yang signifikan. Kategori \"Shoes\" juga memiliki kontribusi yang tinggi, sementara kategori \"Books\" memiliki penjualan yang lebih rendah.\n",
    "\n",
    "2. **Pertanyaan Bisnis: Kinerja Toko di Shopping Mall**\n",
    "   - Jawaban: Toko di \"Metrocity\" memiliki performa penjualan terbaik berdasarkan total omzet, diikuti oleh \"Kanyon.\" Terdapat perbedaan signifikan dalam omzet penjualan antara shopping mall, dengan \"Emaar Square Mall\" menunjukkan performa paling rendah.\n",
    "\n",
    "3. **Pertanyaan Bisnis: Trend Penjualan Berdasarkan Tanggal**\n",
    "   - Jawaban: Tren penjualan menunjukkan fluktuasi yang signifikan selama periode waktu yang diamati. Bulan-bulan tertentu, seperti November dan Desember, cenderung memiliki penjualan yang lebih tinggi, mungkin terkait dengan musim liburan.\n",
    "\n",
    "4. **Pertanyaan Bisnis: Pelanggan Paling Aktif**\n",
    "   - Jawaban: Pelanggan dengan ID \"C189076\" tercatat sebagai pelanggan paling aktif berdasarkan jumlah transaksi. Analisis lebih lanjut diperlukan untuk memahami pola pembelian mereka.\n",
    "\n",
    "5. **Pertanyaan Bisnis: Hubungan Antara Jumlah Barang dan Harga**\n",
    "   - Jawaban: Tidak terlihat korelasi yang signifikan antara jumlah barang yang dibeli dan harga barang. Beberapa transaksi menunjukkan pembelian jumlah barang yang tinggi dengan harga yang rendah, dan sebaliknya.\n",
    "\n",
    "6. **Pertanyaan Bisnis: Preferensi Pembelian di Setiap Shopping Mall**\n",
    "   - Jawaban: Preferensi pembelian dapat bervariasi di setiap shopping mall. Sebagai contoh, \"Kanyon\" cenderung memiliki penjualan yang lebih tinggi untuk kategori \"Clothing,\" sementara \"Emaar Square Mall\" memiliki preferensi untuk kategori \"Books.\"\n",
    "\n",
    "7. **Pertanyaan Bisnis: Hubungan Antara Kategori dan Shopping Mall**\n",
    "   - Jawaban: Terdapat perbedaan preferensi pembelian antara shopping mall. Sebagai contoh, \"Metrocity\" cenderung lebih fokus pada kategori \"Clothing,\" sementara \"Zorlu Center\" memiliki penjualan yang lebih seimbang di berbagai kategori.\n",
    "\n",
    "8. **Pertanyaan Bisnis: Evaluasi Kinerja Produk Terlaris**\n",
    "    - Jawaban: Produk dengan ID \"C555402\" dalam kategori \"Clothing\" adalah produk terlaris berdasarkan jumlah barang yang terjual. Analisis lebih lanjut dapat membantu dalam strategi pemasaran atau manajemen stok."
   ]
  }
 ],
 "metadata": {
  "kernelspec": {
   "display_name": "anaconda-2022.05-py39",
   "language": "python",
   "name": "conda-env-anaconda-2022.05-py39-py"
  },
  "language_info": {
   "codemirror_mode": {
    "name": "ipython",
    "version": 3
   },
   "file_extension": ".py",
   "mimetype": "text/x-python",
   "name": "python",
   "nbconvert_exporter": "python",
   "pygments_lexer": "ipython3",
   "version": "3.9.12"
  }
 },
 "nbformat": 4,
 "nbformat_minor": 5
}
