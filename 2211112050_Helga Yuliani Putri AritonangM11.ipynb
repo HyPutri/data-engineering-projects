{
 "cells": [
  {
   "cell_type": "markdown",
   "id": "69ba06e1",
   "metadata": {},
   "source": [
    "# Data Analysis"
   ]
  },
  {
   "cell_type": "markdown",
   "id": "fad660d2",
   "metadata": {},
   "source": [
    "### Tutorial-01:"
   ]
  },
  {
   "cell_type": "markdown",
   "id": "403125de",
   "metadata": {},
   "source": [
    "- Langkah 1: Buat data frame untuk menyimpan data yang dibaca dari file global_air_quality_4000rows.csv.\n",
    "- Langkah 2: Tampilkan 5 data teratas dari data frame tersebut.\n",
    "- Langkah 3: Lakukan pengecekan data dari data frame tersebut.\n",
    "- Langkah 4: Hitung jumlah data dari masing-masing atribut pada data frame tersebut.\n",
    "- Langkah 5: Hitung jumlah data dengan pengelompokan data berdasarkan atribut 'source_name', kemudian tampilkan 5 data teratas dari pengelompokan tersebut."
   ]
  },
  {
   "cell_type": "code",
   "execution_count": 11,
   "id": "9180544d",
   "metadata": {},
   "outputs": [
    {
     "name": "stdout",
     "output_type": "stream",
     "text": [
      "Langkah 2: Tampilkan 5 data teratas\n",
      "                          location       city country pollutant  value  \\\n",
      "0                  MOBILE-KICKAPOO    LINCOLN      US      pm10   7.00   \n",
      "1                  Oxford St Ebbes     Oxford      GB       no2  30.00   \n",
      "2                 BROADWAY (South)  St. Louis      US      pm25   6.10   \n",
      "3  Deen Dayal Nagar, Sagar - MPPCB      Sagar      IN      pm25  23.67   \n",
      "4                        Manglerud       Oslo      NO      pm10  27.06   \n",
      "\n",
      "                 timestamp   unit source_name   latitude  longitude  \\\n",
      "0  2017-01-18 16:00:00 UTC  µg/m³      AirNow  35.488400 -97.090280   \n",
      "1  2020-04-07 20:00:00 UTC  µg/m³       DEFRA  51.744804  -1.260278   \n",
      "2  2020-04-07 19:00:00 UTC  µg/m³      AirNow  38.542500 -90.263610   \n",
      "3  2020-04-07 18:30:00 UTC  µg/m³       caaqm  23.864016  78.802895   \n",
      "4  2020-04-07 20:00:00 UTC  µg/m³      Norway  59.898690  10.814950   \n",
      "\n",
      "   averaged_over_in_hours  \n",
      "0                    1.00  \n",
      "1                    1.00  \n",
      "2                    1.00  \n",
      "3                    0.25  \n",
      "4                    1.00  \n",
      "\n",
      "Langkah 3: Pengecekan data\n",
      "<class 'pandas.core.frame.DataFrame'>\n",
      "RangeIndex: 4000 entries, 0 to 3999\n",
      "Data columns (total 11 columns):\n",
      " #   Column                  Non-Null Count  Dtype  \n",
      "---  ------                  --------------  -----  \n",
      " 0   location                3997 non-null   object \n",
      " 1   city                    3966 non-null   object \n",
      " 2   country                 4000 non-null   object \n",
      " 3   pollutant               4000 non-null   object \n",
      " 4   value                   4000 non-null   float64\n",
      " 5   timestamp               4000 non-null   object \n",
      " 6   unit                    4000 non-null   object \n",
      " 7   source_name             4000 non-null   object \n",
      " 8   latitude                4000 non-null   float64\n",
      " 9   longitude               4000 non-null   float64\n",
      " 10  averaged_over_in_hours  3634 non-null   float64\n",
      "dtypes: float64(4), object(7)\n",
      "memory usage: 343.9+ KB\n",
      "None\n",
      "\n",
      "Langkah 4: Jumlah data dari masing-masing atribut\n",
      "location                  3997\n",
      "city                      3966\n",
      "country                   4000\n",
      "pollutant                 4000\n",
      "value                     4000\n",
      "timestamp                 4000\n",
      "unit                      4000\n",
      "source_name               4000\n",
      "latitude                  4000\n",
      "longitude                 4000\n",
      "averaged_over_in_hours    3634\n",
      "dtype: int64\n",
      "\n",
      "Langkah 5: Jumlah data dengan pengelompokan berdasarkan 'source_name'\n",
      "  source_name  jumlah_data\n",
      "0   ARPALAZIO           72\n",
      "1    Agaar.mn           27\n",
      "2      AirNow         1715\n",
      "3   Andalucia           71\n",
      "4      Anqing            4\n"
     ]
    }
   ],
   "source": [
    "import pandas as pd\n",
    "\n",
    "# Langkah 1\n",
    "print(\"\\nLangkah 1: Buat Data Frame\")\n",
    "df = pd.read_csv('global_air_quality_4000rows.csv')\n",
    "\n",
    "# Langkah 2\n",
    "print(\"Langkah 2: Tampilkan 5 data teratas\")\n",
    "print(df.head())\n",
    "\n",
    "# Langkah 3\n",
    "print(\"\\nLangkah 3: Pengecekan data\")\n",
    "print(df.info())\n",
    "\n",
    "# Langkah 4\n",
    "print(\"\\nLangkah 4: Jumlah data dari masing-masing atribut\")\n",
    "print(df.count())\n",
    "\n",
    "# Langkah 5\n",
    "print(\"\\nLangkah 5: Jumlah data dengan pengelompokan berdasarkan 'source_name'\")\n",
    "grouped_data = df.groupby('source_name').size().reset_index(name='jumlah_data')\n",
    "print(grouped_data.head())"
   ]
  },
  {
   "cell_type": "markdown",
   "id": "b33cbf72",
   "metadata": {},
   "source": [
    "## Tutorial-02:"
   ]
  },
  {
   "cell_type": "markdown",
   "id": "7a7f2215",
   "metadata": {},
   "source": [
    "- Langkah 1: Buat data frame untuk menyimpan nilai polutan dari masing-masing negara dan kota. Negara dan kota dibuat sebagai label baris, sedangkan polutan dibuat sebagai label kolom. Untuk kasus pada langkah ini, isikan nilai 0 jika ketemu missing value pada nilai polutan.\n",
    "- Langkah 2: Lakukan pengelompokan berdasarkan atribut 'country' dan cari rata-rata dari tiap kelompok. Tampilkan hanya 5 data teratas.\n",
    "- Langkah 3: Lakukan pengelompokan berdasarkan atribut 'country' dan cari deviasi standar (penyimpangan) dari tiap kelompok. Tampilkan hanya 5 data teratas."
   ]
  },
  {
   "cell_type": "code",
   "execution_count": 15,
   "id": "9a966fc2",
   "metadata": {},
   "outputs": [
    {
     "name": "stdout",
     "output_type": "stream",
     "text": [
      "\n",
      "Langkah 2: Pengelompokan berdasarkan 'country' dan rata-rata\n",
      "              value   latitude   longitude  averaged_over_in_hours\n",
      "country                                                           \n",
      "AE        18.500000  24.841395   54.871519                     1.0\n",
      "AR        18.100000 -34.560000  -58.506000                     1.0\n",
      "AU         3.900000 -19.346300  146.834000                     1.0\n",
      "BA       168.782609  44.046826   18.061522                     1.0\n",
      "BK        20.000000  43.856667   18.398205                     1.0\n",
      "\n",
      "Langkah 3: Pengelompokan berdasarkan 'country' dan deviasi standar\n",
      "              value  latitude  longitude  averaged_over_in_hours\n",
      "country                                                         \n",
      "AE         9.192388  0.589847   0.618926                     0.0\n",
      "AR              NaN       NaN        NaN                     NaN\n",
      "AU              NaN       NaN        NaN                     NaN\n",
      "BA       330.530422  0.236622   0.510124                     0.0\n",
      "BK              NaN       NaN        NaN                     NaN\n"
     ]
    }
   ],
   "source": [
    "import pandas as pd\n",
    "\n",
    "# Langkah 1\n",
    "df = pd.read_csv('global_air_quality_4000rows.csv')\n",
    "df_polutant = df.pivot_table(values='value', index=['country', 'city'], columns='pollutant', aggfunc='mean', fill_value=0)\n",
    "\n",
    "# Langkah 2\n",
    "grouped_mean = df.groupby('country').mean()\n",
    "print(\"\\nLangkah 2: Pengelompokan berdasarkan 'country' dan rata-rata\")\n",
    "print(grouped_mean.head())\n",
    "\n",
    "# Langkah 3\n",
    "grouped_std = df.groupby('country').std()\n",
    "print(\"\\nLangkah 3: Pengelompokan berdasarkan 'country' dan deviasi standar\")\n",
    "print(grouped_std.head())"
   ]
  },
  {
   "cell_type": "markdown",
   "id": "67094083",
   "metadata": {},
   "source": [
    "## Tutorial-03:"
   ]
  },
  {
   "cell_type": "markdown",
   "id": "956dbb28",
   "metadata": {},
   "source": [
    "Terapkan agregasi multiple pada data frame polutan dengan fungsi agregasinya adalah 'min', 'median', 'mean', dan 'max'. Lakukan pengelompokan berdasarkan atribut 'country' dan tampilkan hanya 5 data teratas."
   ]
  },
  {
   "cell_type": "code",
   "execution_count": 3,
   "id": "d9d3b73e",
   "metadata": {},
   "outputs": [],
   "source": [
    "# Kerjakan tutorial-03 di bagian ini\n",
    "\n"
   ]
  },
  {
   "cell_type": "markdown",
   "id": "bcf80228",
   "metadata": {},
   "source": [
    "## Tutorial-04:"
   ]
  },
  {
   "cell_type": "markdown",
   "id": "c0d44300",
   "metadata": {},
   "source": [
    "Buat agregasi custom pada data frame polutan untuk menentukan range (selisih antara nilai maksimum dan minimum) dari setiap kelompok. Lakukan pengelompokan berdasarkan atribut 'country' dan tampilkan hanya 5 data teratas."
   ]
  },
  {
   "cell_type": "code",
   "execution_count": 22,
   "id": "147b6723",
   "metadata": {},
   "outputs": [
    {
     "name": "stdout",
     "output_type": "stream",
     "text": [
      "Agregasi Multiple pada Data Frame Polutan:\n",
      "        value                           \n",
      "          min median        mean     max\n",
      "country                                 \n",
      "AE       12.0   18.5   18.500000    25.0\n",
      "AR       18.1   18.1   18.100000    18.1\n",
      "AU        3.9    3.9    3.900000     3.9\n",
      "BA        6.0   36.0  168.782609  1508.0\n",
      "BK       20.0   20.0   20.000000    20.0\n"
     ]
    }
   ],
   "source": [
    "import pandas as pd\n",
    "df = pd.read_csv('global_air_quality_4000rows.csv')\n",
    "\n",
    "df_polutant = df.pivot_table(values='value', index=['country', 'city'], columns='pollutant', aggfunc='mean', fill_value=0)\n",
    "\n",
    "aggregation_functions = {'value': ['min', 'median', 'mean', 'max']}\n",
    "grouped_aggregated = df.groupby('country').agg(aggregation_functions)\n",
    "\n",
    "print(\"Agregasi Multiple pada Data Frame Polutan:\")\n",
    "print(grouped_aggregated.head())"
   ]
  },
  {
   "cell_type": "markdown",
   "id": "dfa4f3e8",
   "metadata": {},
   "source": [
    "## Tutorial-05:"
   ]
  },
  {
   "cell_type": "raw",
   "id": "e7686c66",
   "metadata": {},
   "source": [
    "Buat agregasi custom pada data frame polutan untuk menentukan inter quartile range / IQR (selisih antara nilai kuartil 3 dan kuartil 1) dari setiap kelompok. Lakukan pengelompokan berdasarkan atribut 'country' dan tampilkan hanya 5 data teratas."
   ]
  },
  {
   "cell_type": "code",
   "execution_count": 24,
   "id": "184de476",
   "metadata": {},
   "outputs": [
    {
     "name": "stdout",
     "output_type": "stream",
     "text": [
      "Agregasi Custom (IQR) pada Data Frame Polutan:\n",
      "         value\n",
      "country       \n",
      "AE         6.5\n",
      "AR         0.0\n",
      "AU         0.0\n",
      "BA       108.0\n",
      "BK         0.0\n"
     ]
    }
   ],
   "source": [
    "import pandas as pd\n",
    "import numpy as np\n",
    "df = pd.read_csv('global_air_quality_4000rows.csv')\n",
    "\n",
    "df_polutant = df.pivot_table(values='value', index=['country', 'city'], columns='pollutant', aggfunc='mean', fill_value=0)\n",
    "\n",
    "def calculate_iqr(series):\n",
    "    q3 = series.quantile(0.75)\n",
    "    q1 = series.quantile(0.25)\n",
    "    return q3 - q1\n",
    "custom_aggregation = {'value': calculate_iqr}\n",
    "grouped_custom = df.groupby('country').agg(custom_aggregation)\n",
    "\n",
    "print(\"Agregasi Custom (IQR) pada Data Frame Polutan:\")\n",
    "print(grouped_custom.head())"
   ]
  },
  {
   "cell_type": "code",
   "execution_count": null,
   "id": "81247402-c222-4e74-8c60-94fd7884e31f",
   "metadata": {},
   "outputs": [],
   "source": []
  }
 ],
 "metadata": {
  "kernelspec": {
   "display_name": "anaconda-2022.05-py39",
   "language": "python",
   "name": "conda-env-anaconda-2022.05-py39-py"
  },
  "language_info": {
   "codemirror_mode": {
    "name": "ipython",
    "version": 3
   },
   "file_extension": ".py",
   "mimetype": "text/x-python",
   "name": "python",
   "nbconvert_exporter": "python",
   "pygments_lexer": "ipython3",
   "version": "3.9.12"
  }
 },
 "nbformat": 4,
 "nbformat_minor": 5
}
