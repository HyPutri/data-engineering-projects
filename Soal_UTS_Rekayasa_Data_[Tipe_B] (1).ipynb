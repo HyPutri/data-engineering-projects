{
  "cells": [
    {
      "cell_type": "markdown",
      "id": "d35bfd18",
      "metadata": {
        "id": "d35bfd18"
      },
      "source": [
        "## Identitas Kelompok:"
      ]
    },
    {
      "cell_type": "markdown",
      "id": "42735073",
      "metadata": {
        "id": "42735073"
      },
      "source": [
        "Tuliskan nomor kelompok sesuai yang sudah ditentukan sebelumnya."
      ]
    },
    {
      "cell_type": "markdown",
      "id": "65585bb4",
      "metadata": {
        "id": "65585bb4"
      },
      "source": [
        "#### Nomor Kelompok: 4"
      ]
    },
    {
      "cell_type": "markdown",
      "id": "0848ef94",
      "metadata": {
        "id": "0848ef94"
      },
      "source": [
        "## Identitas Anggota:"
      ]
    },
    {
      "cell_type": "markdown",
      "id": "c240b3e6",
      "metadata": {
        "id": "c240b3e6"
      },
      "source": [
        "Tuliskan identitas dari setiap anggota, meliputi NIM dan nama mahasiswa."
      ]
    },
    {
      "cell_type": "markdown",
      "id": "16475b7f",
      "metadata": {
        "id": "16475b7f"
      },
      "source": [
        "#### NIM Anggota-1: {221113251}, Nama Anggota-1: {Yohan Tegar Suranta Bangun}\n",
        "#### NIM Anggota-2: {221113556}, Nama Anggota-2: {Yohannes Claudius Barus}\n",
        "#### NIM Anggota-3: {221112050}, Nama Anggota-3: {Helga Yuliani Putri Aritonang}\n",
        "#### NIM Anggota-4: {221113032}, Nama Anggota-4: {Wibowo Harianja}\n",
        "#### NIM Anggota-5: {221112997}, Nama Anggota-5: {Muhammad Atila Gading}\n",
        "#### NIM Anggota-6: {221113514}, Nama Anggota-6: {Lusiana Novika Togatorop}"
      ]
    },
    {
      "cell_type": "markdown",
      "id": "43da0fb1",
      "metadata": {
        "id": "43da0fb1"
      },
      "source": [
        "## Kontribusi Setiap Anggota:"
      ]
    },
    {
      "cell_type": "markdown",
      "id": "f7d38527",
      "metadata": {
        "id": "f7d38527"
      },
      "source": [
        "Tuliskan kontribusi dari setiap anggota di dalam pengerjaan soal UTS berbasis proyek ini."
      ]
    },
    {
      "cell_type": "markdown",
      "id": "6ba03e03",
      "metadata": {
        "id": "6ba03e03"
      },
      "source": [
        "#### Anggota-1: { }\n",
        "#### Anggota-2: { }\n",
        "#### Anggota-3: { }\n",
        "#### Anggota-4: { }\n",
        "#### Anggota-5: { }"
      ]
    },
    {
      "cell_type": "markdown",
      "id": "b45beab4",
      "metadata": {
        "id": "b45beab4"
      },
      "source": [
        "## Persiapan Dataset"
      ]
    },
    {
      "cell_type": "markdown",
      "id": "b536edec",
      "metadata": {
        "id": "b536edec"
      },
      "source": [
        "Diberikan sebuah dataset yang berisi data asuransi dengan nama insurance.csv. Lakukan observasi terhadap data yang tersimpan pada file tersebut.\n",
        "\n",
        "https://mikroskilacid-my.sharepoint.com/:x:/g/personal/gunawan_mikroskil_ac_id/ESYvtKkSS-ZLpP6MZaPArqABY4DvOkadkTx1b2LgsUmlgA?e=jRVtcj"
      ]
    },
    {
      "cell_type": "markdown",
      "id": "3b21aff8",
      "metadata": {
        "id": "3b21aff8"
      },
      "source": [
        "## Instruksi ke-1"
      ]
    },
    {
      "cell_type": "markdown",
      "id": "02bf6f2b",
      "metadata": {
        "id": "02bf6f2b"
      },
      "source": [
        "Asumsikan kita hanya memerlukan 20 data pertama sebagai sampel dari dataset tersebut untuk proses analisis. Pada tahapan ini, simpan ke-20 data tersebut pada sebuah dataframe. Dataframe dibentuk dengan collection dictionary dari kolom age, sex, bmi, children, smoker, region, dan charges.\n",
        "\n",
        "![Jawaban%2001.png](attachment:Jawaban%2001.png)"
      ]
    },
    {
      "cell_type": "code",
      "execution_count": null,
      "id": "5aa27e57",
      "metadata": {
        "colab": {
          "base_uri": "https://localhost:8080/"
        },
        "id": "5aa27e57",
        "outputId": "cce1c99d-e614-463e-95dc-55a9bcefa621"
      },
      "outputs": [
        {
          "output_type": "stream",
          "name": "stdout",
          "text": [
            "    age     sex     bmi  children smoker     region      charges\n",
            "0    19  female  27.900         0    yes  southwest  16884.92400\n",
            "1    18    male  33.770         1     no  southeast   1725.55230\n",
            "2    28    male  33.000         3     no  southeast   4449.46200\n",
            "3    33    male  22.705         0     no  northwest  21984.47061\n",
            "4    32    male  28.880         0     no  northwest   3866.85520\n",
            "5    31  female  25.740         0     no  southeast   3756.62160\n",
            "6    46  female  33.440         1     no  southeast   8240.58960\n",
            "7    37  female  27.740         3     no  northwest   7281.50560\n",
            "8    37    male  29.830         2     no  northeast   6406.41070\n",
            "9    60  female  25.840         0     no  northwest  28923.13692\n",
            "10   25    male  26.220         0     no  northeast   2721.32080\n",
            "11   62  female  26.290         0    yes  southeast  27808.72510\n",
            "12   23    male  34.400         0     no  southwest   1826.84300\n",
            "13   56  female  39.820         0     no  southeast  11090.71780\n",
            "14   27    male  42.130         0    yes  southeast  39611.75770\n",
            "15   19    male  24.600         1     no  southwest   1837.23700\n",
            "16   52  female  30.780         1     no  northeast  10797.33620\n",
            "17   23    male  23.845         0     no  northeast   2395.17155\n",
            "18   56    male  40.300         0     no  southwest  10602.38500\n",
            "19   30    male  35.300         0    yes  southwest  36837.46700\n"
          ]
        }
      ],
      "source": [
        "import pandas as pd\n",
        "\n",
        "df = pd.read_excel(\"insurance.xlsx\").drop_duplicates()\n",
        "\n",
        "selected_columns = [\"age\", \"sex\", \"bmi\", \"children\", \"smoker\", \"region\", \"charges\"]\n",
        "sampled_df = df[selected_columns]\n",
        "\n",
        "sampled_df = sampled_df.head(20)\n",
        "\n",
        "print(sampled_df)\n"
      ]
    },
    {
      "cell_type": "markdown",
      "id": "2d56fc68",
      "metadata": {
        "id": "2d56fc68"
      },
      "source": [
        "## Instruksi ke-2"
      ]
    },
    {
      "cell_type": "markdown",
      "id": "d495d82b",
      "metadata": {
        "id": "d495d82b"
      },
      "source": [
        "Anda diminta untuk menambahkan sebuah kolom baru di antara kolom umur dan jenis kelamin, yaitu coverage. Asumsi perusahaan asuransi hanya memberikan pertanggungan pada setiap nasabahnya sampai umur 65 tahun. Hitung masa pertanggungan untuk setiap sampel data.\n",
        "\n",
        "![Jawaban%2002.png](attachment:Jawaban%2002.png)"
      ]
    },
    {
      "cell_type": "code",
      "execution_count": null,
      "id": "0aaf2413",
      "metadata": {
        "colab": {
          "base_uri": "https://localhost:8080/"
        },
        "id": "0aaf2413",
        "outputId": "ad67f2e7-b917-48c7-e464-5c672b02b255"
      },
      "outputs": [
        {
          "output_type": "stream",
          "name": "stdout",
          "text": [
            "    age  coverage     sex     bmi  children smoker     region      charges\n",
            "0    19        46  female  27.900         0    yes  southwest  16884.92400\n",
            "1    18        47    male  33.770         1     no  southeast   1725.55230\n",
            "2    28        37    male  33.000         3     no  southeast   4449.46200\n",
            "3    33        32    male  22.705         0     no  northwest  21984.47061\n",
            "4    32        33    male  28.880         0     no  northwest   3866.85520\n",
            "5    31        34  female  25.740         0     no  southeast   3756.62160\n",
            "6    46        19  female  33.440         1     no  southeast   8240.58960\n",
            "7    37        28  female  27.740         3     no  northwest   7281.50560\n",
            "8    37        28    male  29.830         2     no  northeast   6406.41070\n",
            "9    60         5  female  25.840         0     no  northwest  28923.13692\n",
            "10   25        40    male  26.220         0     no  northeast   2721.32080\n",
            "11   62         3  female  26.290         0    yes  southeast  27808.72510\n",
            "12   23        42    male  34.400         0     no  southwest   1826.84300\n",
            "13   56         9  female  39.820         0     no  southeast  11090.71780\n",
            "14   27        38    male  42.130         0    yes  southeast  39611.75770\n",
            "15   19        46    male  24.600         1     no  southwest   1837.23700\n",
            "16   52        13  female  30.780         1     no  northeast  10797.33620\n",
            "17   23        42    male  23.845         0     no  northeast   2395.17155\n",
            "18   56         9    male  40.300         0     no  southwest  10602.38500\n",
            "19   30        35    male  35.300         0    yes  southwest  36837.46700\n"
          ]
        }
      ],
      "source": [
        "import pandas as pd\n",
        "\n",
        "df = pd.read_excel(\"insurance.xlsx\").drop_duplicates()\n",
        "\n",
        "df[\"coverage\"] = 65 - df[\"age\"]\n",
        "df[\"coverage\"] = df[\"coverage\"].apply(lambda x: x if x >= 0 else 0)\n",
        "\n",
        "df = df[['age', 'coverage', 'sex', 'bmi', 'children', 'smoker', 'region', 'charges']]\n",
        "\n",
        "print(df.head(20))\n"
      ]
    },
    {
      "cell_type": "markdown",
      "id": "394b1c3a",
      "metadata": {
        "id": "394b1c3a"
      },
      "source": [
        "## Instruksi ke-3"
      ]
    },
    {
      "cell_type": "markdown",
      "id": "56b01f34",
      "metadata": {
        "id": "56b01f34"
      },
      "source": [
        "Anda diminta untuk menambahkan sebuah kolom baru di paling akhir, yaitu new_charges. Asumsi dikarenakan adanya kenaikan biaya rumah sakit, maka perusahaan memutuskan akan menaikkan biaya asuransi dengan ketentuan 5% untuk yang preminya di bawah 5000, sedangkan bagi yang preminya di atas 5000 dibebankan kenaikan 10%. Untuk setiap anak yang ditanggung nasabah, dibebankan tambahan kenaikan 1%.\n",
        "\n",
        "![Jawaban%2003.png](attachment:Jawaban%2003.png)"
      ]
    },
    {
      "cell_type": "code",
      "execution_count": 15,
      "id": "38094f38",
      "metadata": {
        "id": "38094f38",
        "colab": {
          "base_uri": "https://localhost:8080/"
        },
        "outputId": "8ca13e84-de9f-46f9-8505-0c75151b159b"
      },
      "outputs": [
        {
          "output_type": "stream",
          "name": "stdout",
          "text": [
            "    age  coverage     sex     bmi  children smoker     region      charges  \\\n",
            "0    19        46  female  27.900         0    yes  southwest  16884.92400   \n",
            "1    18        47    male  33.770         1     no  southeast   1725.55230   \n",
            "2    28        37    male  33.000         3     no  southeast   4449.46200   \n",
            "3    33        32    male  22.705         0     no  northwest  21984.47061   \n",
            "4    32        33    male  28.880         0     no  northwest   3866.85520   \n",
            "5    31        34  female  25.740         0     no  southeast   3756.62160   \n",
            "6    46        19  female  33.440         1     no  southeast   8240.58960   \n",
            "7    37        28  female  27.740         3     no  northwest   7281.50560   \n",
            "8    37        28    male  29.830         2     no  northeast   6406.41070   \n",
            "9    60         5  female  25.840         0     no  northwest  28923.13692   \n",
            "10   25        40    male  26.220         0     no  northeast   2721.32080   \n",
            "11   62         3  female  26.290         0    yes  southeast  27808.72510   \n",
            "12   23        42    male  34.400         0     no  southwest   1826.84300   \n",
            "13   56         9  female  39.820         0     no  southeast  11090.71780   \n",
            "14   27        38    male  42.130         0    yes  southeast  39611.75770   \n",
            "15   19        46    male  24.600         1     no  southwest   1837.23700   \n",
            "16   52        13  female  30.780         1     no  northeast  10797.33620   \n",
            "17   23        42    male  23.845         0     no  northeast   2395.17155   \n",
            "18   56         9    male  40.300         0     no  southwest  10602.38500   \n",
            "19   30        35    male  35.300         0    yes  southwest  36837.46700   \n",
            "\n",
            "     new_charges  \n",
            "0   18573.416400  \n",
            "1    1829.085438  \n",
            "2    4805.418960  \n",
            "3   24182.917671  \n",
            "4    4060.197960  \n",
            "5    3944.452680  \n",
            "6    9147.054456  \n",
            "7    8228.101328  \n",
            "8    7175.179984  \n",
            "9   31815.450612  \n",
            "10   2857.386840  \n",
            "11  30589.597610  \n",
            "12   1918.185150  \n",
            "13  12199.789580  \n",
            "14  43572.933470  \n",
            "15   1947.471220  \n",
            "16  11985.043182  \n",
            "17   2514.930128  \n",
            "18  11662.623500  \n",
            "19  40521.213700  \n"
          ]
        }
      ],
      "source": [
        "import pandas as pd\n",
        "\n",
        "\n",
        "df = pd.read_excel(\"insurance.xlsx\").drop_duplicates()\n",
        "\n",
        "\n",
        "df[\"coverage\"] = 65 - df[\"age\"]\n",
        "df[\"coverage\"] = df[\"coverage\"].apply(lambda x: x if x >= 0 else 0)\n",
        "\n",
        "\n",
        "def calculate_new_charges(row):\n",
        "    base_charge = row[\"charges\"]\n",
        "    if base_charge < 5000:\n",
        "        increase_percentage = 0.05\n",
        "    else:\n",
        "        increase_percentage = 0.10\n",
        "    increase_percentage += row[\"children\"] * 0.01\n",
        "    new_charge = base_charge * (1 + increase_percentage)\n",
        "    return new_charge\n",
        "\n",
        "\n",
        "df[\"new_charges\"] = df.apply(calculate_new_charges, axis=1)\n",
        "\n",
        "\n",
        "df = df[['age', 'coverage', 'sex', 'bmi', 'children', 'smoker', 'region', 'charges', 'new_charges']]\n",
        "\n",
        "\n",
        "print(df.head(20))\n",
        "\n"
      ]
    },
    {
      "cell_type": "markdown",
      "id": "532442d6",
      "metadata": {
        "id": "532442d6"
      },
      "source": [
        "## Instruksi ke-4"
      ]
    },
    {
      "cell_type": "markdown",
      "id": "566d5325",
      "metadata": {
        "id": "566d5325"
      },
      "source": [
        "Anda diminta untuk menambahkan sebuah kolom baru di paling akhir, yaitu percent_increment. Nilai ini menunjukkan persentase kenaikan premi yang harus dibayar nasabah.\n",
        "\n",
        "![Jawaban%2004.png](attachment:Jawaban%2004.png)"
      ]
    },
    {
      "cell_type": "code",
      "execution_count": 25,
      "id": "cfc3b2b6",
      "metadata": {
        "id": "cfc3b2b6",
        "colab": {
          "base_uri": "https://localhost:8080/"
        },
        "outputId": "5ac4e3ff-c015-409e-8d69-3c92c149200c"
      },
      "outputs": [
        {
          "output_type": "stream",
          "name": "stdout",
          "text": [
            "    age  coverage     sex     bmi  children smoker     region      charges  \\\n",
            "0    19        46  female  27.900         0    yes  southwest  16884.92400   \n",
            "1    18        47    male  33.770         1     no  southeast   1725.55230   \n",
            "2    28        37    male  33.000         3     no  southeast   4449.46200   \n",
            "3    33        32    male  22.705         0     no  northwest  21984.47061   \n",
            "4    32        33    male  28.880         0     no  northwest   3866.85520   \n",
            "5    31        34  female  25.740         0     no  southeast   3756.62160   \n",
            "6    46        19  female  33.440         1     no  southeast   8240.58960   \n",
            "7    37        28  female  27.740         3     no  northwest   7281.50560   \n",
            "8    37        28    male  29.830         2     no  northeast   6406.41070   \n",
            "9    60         5  female  25.840         0     no  northwest  28923.13692   \n",
            "10   25        40    male  26.220         0     no  northeast   2721.32080   \n",
            "11   62         3  female  26.290         0    yes  southeast  27808.72510   \n",
            "12   23        42    male  34.400         0     no  southwest   1826.84300   \n",
            "13   56         9  female  39.820         0     no  southeast  11090.71780   \n",
            "14   27        38    male  42.130         0    yes  southeast  39611.75770   \n",
            "15   19        46    male  24.600         1     no  southwest   1837.23700   \n",
            "16   52        13  female  30.780         1     no  northeast  10797.33620   \n",
            "17   23        42    male  23.845         0     no  northeast   2395.17155   \n",
            "18   56         9    male  40.300         0     no  southwest  10602.38500   \n",
            "19   30        35    male  35.300         0    yes  southwest  36837.46700   \n",
            "\n",
            "     new_charges  percent_increment  \n",
            "0   18573.416400               10.0  \n",
            "1    1829.085438                6.0  \n",
            "2    4805.418960                8.0  \n",
            "3   24182.917671               10.0  \n",
            "4    4060.197960                5.0  \n",
            "5    3944.452680                5.0  \n",
            "6    9147.054456               11.0  \n",
            "7    8228.101328               13.0  \n",
            "8    7175.179984               12.0  \n",
            "9   31815.450612               10.0  \n",
            "10   2857.386840                5.0  \n",
            "11  30589.597610               10.0  \n",
            "12   1918.185150                5.0  \n",
            "13  12199.789580               10.0  \n",
            "14  43572.933470               10.0  \n",
            "15   1947.471220                6.0  \n",
            "16  11985.043182               11.0  \n",
            "17   2514.930128                5.0  \n",
            "18  11662.623500               10.0  \n",
            "19  40521.213700               10.0  \n"
          ]
        }
      ],
      "source": [
        "import pandas as pd\n",
        "\n",
        "\n",
        "df = pd.read_excel(\"insurance.xlsx\").drop_duplicates()\n",
        "\n",
        "\n",
        "df[\"coverage\"] = 65 - df[\"age\"]\n",
        "df[\"coverage\"] = df[\"coverage\"].apply(lambda x: x if x >= 0 else 0)\n",
        "\n",
        "\n",
        "def calculate_percent_increment(row):\n",
        "    base_charge = row[\"charges\"]\n",
        "    if base_charge < 5000:\n",
        "        percent_increment = 5.0\n",
        "    else:\n",
        "        percent_increment = 10.0\n",
        "    percent_increment += row[\"children\"]\n",
        "    return percent_increment\n",
        "\n",
        "df[\"percent_increment\"] = df.apply(calculate_percent_increment, axis=1)\n",
        "\n",
        "df[\"new_charges\"] = df[\"charges\"] * (1 + df[\"percent_increment\"] / 100)\n",
        "\n",
        "df = df[['age', 'coverage', 'sex', 'bmi', 'children', 'smoker', 'region', 'charges', 'new_charges', 'percent_increment']]\n",
        "\n",
        "print(df.head(20))\n"
      ]
    },
    {
      "cell_type": "markdown",
      "id": "96c2b691",
      "metadata": {
        "id": "96c2b691"
      },
      "source": [
        "## Instruksi ke-5"
      ]
    },
    {
      "cell_type": "markdown",
      "id": "d47cd7aa",
      "metadata": {
        "id": "d47cd7aa"
      },
      "source": [
        "Manajer ingin mengetahui apakah terdapat nasabah perempuan yang merokok. Anda diminta untuk menyajikan data tersebut ke Manajer.\n",
        "\n",
        "![Jawaban%2005.png](attachment:Jawaban%2005.png)"
      ]
    },
    {
      "cell_type": "code",
      "execution_count": null,
      "id": "89c46271",
      "metadata": {
        "id": "89c46271"
      },
      "outputs": [],
      "source": [
        "## Ketikkan solusinya pada cell ini dan perhatikan output yang diharapkan.\n",
        "\n"
      ]
    },
    {
      "cell_type": "markdown",
      "id": "4b7fd3b3",
      "metadata": {
        "id": "4b7fd3b3"
      },
      "source": [
        "## Instruksi ke-6"
      ]
    },
    {
      "cell_type": "markdown",
      "id": "88e09b48",
      "metadata": {
        "id": "88e09b48"
      },
      "source": [
        "Dari sampel data yang dianalisis, apakah ditemukan nasabah yang obesitas? Obesitas dapat ditentukan berdasarkan nilai BMI, yaitu di atas 30. Anda diminta untuk menyajikan data tersebut ke Manajer.\n",
        "\n",
        "![Jawaban%2006.png](attachment:Jawaban%2006.png)"
      ]
    },
    {
      "cell_type": "code",
      "execution_count": null,
      "id": "0b657648",
      "metadata": {
        "id": "0b657648"
      },
      "outputs": [],
      "source": [
        "## Ketikkan solusinya pada cell ini dan perhatikan output yang diharapkan.\n",
        "\n"
      ]
    },
    {
      "cell_type": "markdown",
      "id": "b4548ff7",
      "metadata": {
        "id": "b4548ff7"
      },
      "source": [
        "## Instruksi ke-7"
      ]
    },
    {
      "cell_type": "markdown",
      "id": "b094d329",
      "metadata": {
        "id": "b094d329"
      },
      "source": [
        "Selain itu, Manajer juga membutuhkan informasi jumlah nasabah di wilayah utara dan selatan untuk menentukan target pemasaran. Anda diminta untuk menyajikan data tersebut ke Manajer.\n",
        "\n",
        "![Jawaban%2007.png](attachment:Jawaban%2007.png)"
      ]
    },
    {
      "cell_type": "code",
      "execution_count": null,
      "id": "aa098bc5",
      "metadata": {
        "id": "aa098bc5"
      },
      "outputs": [],
      "source": [
        "## Ketikkan solusinya pada cell ini dan perhatikan output yang diharapkan.\n",
        "\n"
      ]
    },
    {
      "cell_type": "markdown",
      "id": "cb91bcf4",
      "metadata": {
        "id": "cb91bcf4"
      },
      "source": [
        "## Instruksi ke-8"
      ]
    },
    {
      "cell_type": "markdown",
      "id": "efae9f38",
      "metadata": {
        "id": "efae9f38"
      },
      "source": [
        "Anda diminta untuk menghitung nilai premi terkecil, rata-rata, dan terbesar dari 20 data yang dijadikan sebagai sampel analisis.\n",
        "\n",
        "![Jawaban%2008.png](attachment:Jawaban%2008.png)"
      ]
    },
    {
      "cell_type": "code",
      "execution_count": null,
      "id": "8741b87c",
      "metadata": {
        "id": "8741b87c"
      },
      "outputs": [],
      "source": [
        "## Ketikkan solusinya pada cell ini dan perhatikan output yang diharapkan.\n",
        "\n"
      ]
    },
    {
      "cell_type": "markdown",
      "id": "d9e3259a",
      "metadata": {
        "id": "d9e3259a"
      },
      "source": [
        "## Instruksi ke-9"
      ]
    },
    {
      "cell_type": "markdown",
      "id": "087601fe",
      "metadata": {
        "id": "087601fe"
      },
      "source": [
        "Anda diminta untuk menghitung total premi di wilayah timur dan barat dari 20 data yang dijadikan sebagai sampel analisis.\n",
        "\n",
        "![Jawaban%2009.png](attachment:Jawaban%2009.png)"
      ]
    },
    {
      "cell_type": "code",
      "execution_count": null,
      "id": "46127a89",
      "metadata": {
        "id": "46127a89"
      },
      "outputs": [],
      "source": [
        "## Ketikkan solusinya pada cell ini dan perhatikan output yang diharapkan.\n",
        "\n"
      ]
    },
    {
      "cell_type": "markdown",
      "id": "53b0172b",
      "metadata": {
        "id": "53b0172b"
      },
      "source": [
        "## Instruksi ke-10"
      ]
    },
    {
      "cell_type": "markdown",
      "id": "8abb5dc6",
      "metadata": {
        "id": "8abb5dc6"
      },
      "source": [
        "Jika Manajer membutuhkan tampilan visual yang menjelaskan perbandingan total penjualan asuransi di wilayah timur dan barat, menurut Anda, jenis visualisasi apakah yang paling tepat untuk menunjukkan hal tersebut? Mengapa?"
      ]
    },
    {
      "cell_type": "code",
      "execution_count": null,
      "id": "5d23c361",
      "metadata": {
        "id": "5d23c361"
      },
      "outputs": [],
      "source": [
        "## Berikan jawaban Anda pada cell ini\n",
        "\n"
      ]
    }
  ],
  "metadata": {
    "kernelspec": {
      "display_name": "Python 3 (ipykernel)",
      "language": "python",
      "name": "python3"
    },
    "language_info": {
      "codemirror_mode": {
        "name": "ipython",
        "version": 3
      },
      "file_extension": ".py",
      "mimetype": "text/x-python",
      "name": "python",
      "nbconvert_exporter": "python",
      "pygments_lexer": "ipython3",
      "version": "3.9.12"
    },
    "colab": {
      "provenance": []
    }
  },
  "nbformat": 4,
  "nbformat_minor": 5
}