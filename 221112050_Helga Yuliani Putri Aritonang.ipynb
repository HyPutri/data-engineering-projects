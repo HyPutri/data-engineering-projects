{
 "cells": [
  {
   "cell_type": "code",
   "execution_count": 6,
   "id": "f4de4a83-be17-40ef-b7b3-9ceb45e89f9d",
   "metadata": {},
   "outputs": [
    {
     "name": "stdout",
     "output_type": "stream",
     "text": [
      "     bulan jenis_bahanbakar  jumlah_penjualan\n",
      "12       1          Premium         134009663\n",
      "28       2          Premium         125012500\n",
      "44       3          Premium         125980065\n",
      "60       4          Premium         124888500\n",
      "76       5          Premium         125000663\n",
      "92       6          Premium         116686335\n",
      "108      7          Premium         102462163\n",
      "124      8          Premium         108294500\n",
      "140      9          Premium          93261395\n"
     ]
    }
   ],
   "source": [
    "import pandas as pd\n",
    "\n",
    "data = pd.read_csv('data-penjualan-dan-pajak-bbm-tahun-2016.csv')\n",
    "\n",
    "# Menggunakan agregasi untuk menghitung total penjualan per produk setiap bulannya\n",
    "total_penjualan = data.groupby(['bulan', 'jenis_bahanbakar'])['jumlah_penjualan'].sum().reset_index()\n",
    "\n",
    "# Menggunakan filtrasi untuk hanya menyimpan produk dengan total penjualan di atas nilai tertentu (misalnya 10.000.000)\n",
    "transaksi_di_atas_nilai = total_penjualan[total_penjualan['jumlah_penjualan'] > 10000000]\n",
    "\n",
    "# Menemukan produk dengan total penjualan tertinggi setiap bulannya\n",
    "produk_terlaris = transaksi_di_atas_nilai.loc[transaksi_di_atas_nilai.groupby('bulan')['jumlah_penjualan'].idxmax()]\n",
    "\n",
    "#Menampilkan hasil\n",
    "print(produk_terlaris[['bulan', 'jenis_bahanbakar', 'jumlah_penjualan']])"
   ]
  },
  {
   "cell_type": "code",
   "execution_count": 8,
   "id": "05ff4caf-8a1c-4e72-a1b2-8ce6dc045d16",
   "metadata": {},
   "outputs": [
    {
     "name": "stdout",
     "output_type": "stream",
     "text": [
      "     bulan jenis_bahanbakar  jumlah_penjualan\n",
      "12       1          Premium         134009663\n",
      "28       2          Premium         125012500\n",
      "44       3          Premium         125980065\n",
      "60       4          Premium         124888500\n",
      "76       5          Premium         125000663\n",
      "92       6          Premium         116686335\n",
      "108      7          Premium         102462163\n",
      "124      8          Premium         108294500\n",
      "140      9          Premium          93261395\n"
     ]
    }
   ],
   "source": [
    "# Menggantikan nilai-nilai yang hilang dengan nilai rata-rata kolom 'jumlah_penjualan'\n",
    "produk_terlaris['jumlah_penjualan'].fillna(produk_terlaris['jumlah_penjualan'].mean(), inplace=True)\n",
    "\n",
    "# Menampilkan data setelah pengisian nilai-nilai yang hilang\n",
    "print(produk_terlaris[['bulan', 'jenis_bahanbakar', 'jumlah_penjualan']])"
   ]
  },
  {
   "cell_type": "code",
   "execution_count": 10,
   "id": "3817b21b-9a1a-41f4-84b1-3500f758ca9b",
   "metadata": {},
   "outputs": [
    {
     "name": "stdout",
     "output_type": "stream",
     "text": [
      "     bulan jenis_bahanbakar  jumlah_penjualan\n",
      "12       1          Premium       134009663.0\n",
      "28       2          Premium       125012500.0\n",
      "44       3          Premium       125980065.0\n",
      "60       4          Premium       124888500.0\n",
      "76       5          Premium       125000663.0\n",
      "92       6          Premium       116686335.0\n",
      "108      7          Premium       102462163.0\n",
      "124      8          Premium       108294500.0\n",
      "140      9          Premium        93261395.0\n"
     ]
    }
   ],
   "source": [
    "# Konversi tipe data kolom 'jumlah_penjualan' ke float\n",
    "produk_terlaris['jumlah_penjualan'] = produk_terlaris['jumlah_penjualan'].astype(float)\n",
    "\n",
    "# Menampilkan data setelah konversi tipe data\n",
    "print(produk_terlaris[['bulan', 'jenis_bahanbakar', 'jumlah_penjualan']])"
   ]
  },
  {
   "cell_type": "code",
   "execution_count": null,
   "id": "13ecfae0-80fa-4ee9-af11-1bf6fc983549",
   "metadata": {},
   "outputs": [],
   "source": []
  }
 ],
 "metadata": {
  "kernelspec": {
   "display_name": "anaconda-panel-2023.05-py310",
   "language": "python",
   "name": "conda-env-anaconda-panel-2023.05-py310-py"
  },
  "language_info": {
   "codemirror_mode": {
    "name": "ipython",
    "version": 3
   },
   "file_extension": ".py",
   "mimetype": "text/x-python",
   "name": "python",
   "nbconvert_exporter": "python",
   "pygments_lexer": "ipython3",
   "version": "3.11.5"
  }
 },
 "nbformat": 4,
 "nbformat_minor": 5
}
