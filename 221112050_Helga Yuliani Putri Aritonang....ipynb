{
 "cells": [
  {
   "cell_type": "markdown",
   "id": "9c104dfb",
   "metadata": {},
   "source": [
    "# Tipe Data Collection/Sequence"
   ]
  },
  {
   "cell_type": "markdown",
   "id": "c6556430",
   "metadata": {},
   "source": [
    "Tipe data collection/sequence digunakan untuk menampung sekumpulan data secara terorganisir. List dan dictionary merupakan contoh dari tipe data tersebut."
   ]
  },
  {
   "cell_type": "markdown",
   "id": "da362545",
   "metadata": {},
   "source": [
    "## List"
   ]
  },
  {
   "cell_type": "markdown",
   "id": "28d3e5ad",
   "metadata": {},
   "source": [
    "Tipe data list diawali dengan tanda kurung siku buka (\"[\"), setiap elemen di dalamnya dipisahkan dengan tanda koma (\",\"), dan ditutup dengan tanda kurung siku tutup (\"]\"). Setiap elemen dari list memiliki indeks yang dimulai dari angka 0 dan terus bertambah satu nilainya hingga elemen terakhir dari list. Tipe data list bersifat mutable yang berarti setiap elemen di dalam list dapat diubah nilainya setelah proses pendeklarasian list."
   ]
  },
  {
   "cell_type": "markdown",
   "id": "fadf8bd3",
   "metadata": {},
   "source": [
    "### Tutorial-01:"
   ]
  },
  {
   "cell_type": "markdown",
   "id": "4bac7c44",
   "metadata": {},
   "source": [
    "Kerjakan sesuai tahapan berikut ini.\n",
    "- 1: Input data 1, 'dua', 3, 4.0, dan 5 ke dalam variabel list_angka\n",
    "- 2: Cetak elemen pertama dari list_angka\n",
    "- 3: Cetak elemen keempat dari list_angka\n",
    "- 4: Ubah nilai elemen ketiga dari list_angka menjadi 'tiga'\n",
    "- 5: Cetak elemen ketiga yang telah diubah tersebut\n",
    "- 6: Tambah data 6.0 ke dalam variabel list_angka\n",
    "- 7: Hapus elemen kelima dari variabel list_angka\n",
    "- 8: Cetak isi dari variabel list_angka"
   ]
  },
  {
   "cell_type": "code",
   "execution_count": 5,
   "id": "f2de749b",
   "metadata": {},
   "outputs": [
    {
     "name": "stdout",
     "output_type": "stream",
     "text": [
      "Elemen pertama: 1\n",
      "Elemen keempat: 4.0\n",
      "Elemen ketiga yang telah diubah: tiga\n",
      "Isi dari listAngka: [1, 'dua', 'tiga', 4.0, 6.0]\n"
     ]
    }
   ],
   "source": [
    "list_angka = [1, 'dua', 3, 4.0, 5]\n",
    "\n",
    "print(\"Elemen pertama:\", list_angka[0])\n",
    "print(\"Elemen keempat:\", list_angka[3])\n",
    "\n",
    "list_angka[2] = 'tiga'\n",
    "\n",
    "print(\"Elemen ketiga yang telah diubah:\", list_angka[2])\n",
    "\n",
    "list_angka.append(6.0)\n",
    "\n",
    "del list_angka[4]\n",
    "\n",
    "print(\"Isi dari list_angka:\", list_angka)"
   ]
  },
  {
   "cell_type": "markdown",
   "id": "283df178",
   "metadata": {},
   "source": [
    "### Tutorial-02:"
   ]
  },
  {
   "cell_type": "markdown",
   "id": "a69bdfdb",
   "metadata": {},
   "source": [
    "Kembangkan sebuah aplikasi yang dapat menghitung nilai rata-rata dari dua kelompok data. Kerjakan sesuai tahapan berikut ini.\n",
    "- 1: Simpan masing-masing kelompok data ke dalam list\n",
    "- 2: Buat fungsi untuk menghitung nilai rata-rata dari data di dalam list\n",
    "- 3: Cetak rata-rata dari kedua kelompok data"
   ]
  },
  {
   "cell_type": "code",
   "execution_count": 9,
   "id": "a403c1d9",
   "metadata": {},
   "outputs": [
    {
     "name": "stdout",
     "output_type": "stream",
     "text": [
      "Rata-rata Kelompok Data 1: 105.0\n",
      "Rata-rata Kelompok Data 2: 73.0\n"
     ]
    }
   ],
   "source": [
    "kelompokData1 = [70, 70, 70, 100, 100, 100, 120, 120, 150, 150]\n",
    "kelompokData2 = [50, 60, 60, 50, 70, 70, 100, 80, 100, 90]\n",
    "\n",
    "def hitungRataRata(data):\n",
    "    if len(data) == 0:\n",
    "        return 0\n",
    "    total = sum(data)\n",
    "    rataRata = total / len(data)\n",
    "    return rataRata\n",
    "\n",
    "ratarataKelompok1 = hitungRataRata(kelompokData1)\n",
    "ratarataKelompok2 = hitungRataRata(kelompokData2)\n",
    "\n",
    "print(\"Rata-rata Kelompok Data 1:\", ratarataKelompok1)\n",
    "print(\"Rata-rata Kelompok Data 2:\", ratarataKelompok2)"
   ]
  },
  {
   "cell_type": "markdown",
   "id": "69ba06e1",
   "metadata": {},
   "source": [
    "## Dictionary"
   ]
  },
  {
   "cell_type": "markdown",
   "id": "b557b1d5",
   "metadata": {},
   "source": [
    "Tipe data dictionary digunakan untuk memetakan sebuah nilai ke nilai lainnya. Tipe data ini dideklarasikan dengan diawali oleh tanda kurung kurawal buka (\"{\"), setiap elemen dipisahkan di dalamnya dengan tanda koma (\",\"), dan ditutup dengan tanda kurung kurawal tutup (\"}\"). Setiap elemen pada tipe data dictionary dideklarasikan dengan format \"kunci\": \"nilai\".\n",
    "\n",
    "Untuk mengakses elemen dari sebuah dictionary, caranya adalah dengan menspesifikasikan kata kunci yang terdapat dalam sebuah dictionary."
   ]
  },
  {
   "cell_type": "markdown",
   "id": "72b43690",
   "metadata": {},
   "source": [
    "### Tutorial-03:"
   ]
  },
  {
   "cell_type": "markdown",
   "id": "40e349c2",
   "metadata": {},
   "source": [
    "Kerjakan sesuai tahapan berikut ini.\n",
    "- 1: Input nama dan pekerjaan pegawai (Budi sebagai Database Administrator) ke dalam variabel dict_pegawai\n",
    "- 2: Cetak nama dari pegawai tersebut\n",
    "- 3: Cetak pekerjaan dari pegawai tersebut"
   ]
  },
  {
   "cell_type": "code",
   "execution_count": 13,
   "id": "d250e97c",
   "metadata": {},
   "outputs": [
    {
     "name": "stdout",
     "output_type": "stream",
     "text": [
      "Nama Pegawai: Budi\n",
      "Pekerjaan Pegawai: Database Administrator\n"
     ]
    }
   ],
   "source": [
    "dict_pegawai = {\"nama\": \"Budi\", \"pekerjaan\": \"Database Administrator\"}\n",
    "\n",
    "print(\"Nama Pegawai:\", dict_pegawai[\"nama\"])\n",
    "print(\"Pekerjaan Pegawai:\", dict_pegawai[\"pekerjaan\"])"
   ]
  },
  {
   "cell_type": "markdown",
   "id": "fad660d2",
   "metadata": {},
   "source": [
    "### Tutorial-04:"
   ]
  },
  {
   "attachments": {
    "M03%20-%20Tutorial%204.png": {
     "image/png": "[encoded data removed]"
    }
   },
   "cell_type": "markdown",
   "id": "403125de",
   "metadata": {},
   "source": [
    "Kembangkan sebuah aplikasi yang dapat menghitung total tagihan pembayaran dari sebuah proyek.\n",
    "![M03%20-%20Tutorial%204.png](attachment:M03%20-%20Tutorial%204.png)\n",
    "\n",
    "Kerjakan sesuai tahapan berikut ini.\n",
    "- 1: Masing-masing jasa dinyatakan ke dalam dictionary\n",
    "- 2: Hitung harga subtotal dari masing-masing jasa\n",
    "- 3: Hitung total harga\n",
    "- 4: Hitung pajak\n",
    "- 5: Cetak grand total (total harga + pajak)"
   ]
  },
  {
   "cell_type": "code",
   "execution_count": 17,
   "id": "721163ce",
   "metadata": {},
   "outputs": [
    {
     "name": "stdout",
     "output_type": "stream",
     "text": [
      "Harga Subtotal Data Acquisition: 15000000\n",
      "Harga Subtotal Data Preparation: 15000000\n",
      "Harga Subtotal Data Exploration: 30000000\n",
      "Harga Subtotal Data Modeling: 25000000\n",
      "Total Harga: 85000000\n",
      "Pajak (10%): 8500000.0\n",
      "Grand Total: 93500000.0\n"
     ]
    }
   ],
   "source": [
    "jasa_data_acquisition = {\"nama\": \"data_acquisition\", \"harga_per_hari\": 1000000, \"total_hari_kerja\": 15}\n",
    "jasa_data_preparation = {\"nama\": \"data_preparation\", \"harga_per_hari\": 1500000, \"total_hari_kerja\": 10}\n",
    "jasa_data_exploration = {\"nama\": \"data_exploration\", \"harga_per_hari\": 2000000, \"total_hari_kerja\": 15}\n",
    "jasa_data_modeling = {\"nama\": \"data_modeling\", \"harga_per_hari\": 2500000, \"total_hari_kerja\": 10}\n",
    "\n",
    "jasa_data_acquisition[\"subtotal\"] = jasa_data_acquisition[\"harga_per_hari\"] * jasa_data_acquisition[\"total_hari_kerja\"]\n",
    "jasa_data_preparation[\"subtotal\"] = jasa_data_preparation[\"harga_per_hari\"] * jasa_data_preparation[\"total_hari_kerja\"]\n",
    "jasa_data_exploration[\"subtotal\"] = jasa_data_exploration[\"harga_per_hari\"] * jasa_data_exploration[\"total_hari_kerja\"]\n",
    "jasa_data_modeling[\"subtotal\"] = jasa_data_modeling[\"harga_per_hari\"] * jasa_data_modeling[\"total_hari_kerja\"]\n",
    "\n",
    "total_harga = jasa_data_acquisition[\"subtotal\"] + jasa_data_preparation[\"subtotal\"] + jasa_data_exploration[\"subtotal\"] + jasa_data_modeling[\"subtotal\"]\n",
    "\n",
    "pajak = 0.1 * total_harga\n",
    "\n",
    "grand_total = total_harga + pajak\n",
    "\n",
    "print(\"Harga Subtotal Data Acquisition:\", jasa_data_acquisition[\"subtotal\"])\n",
    "print(\"Harga Subtotal Data Preparation:\", jasa_data_preparation[\"subtotal\"])\n",
    "print(\"Harga Subtotal Data Exploration:\", jasa_data_exploration[\"subtotal\"])\n",
    "print(\"Harga Subtotal Data Modeling:\", jasa_data_modeling[\"subtotal\"])\n",
    "print(\"Total Harga:\", total_harga)\n",
    "print(\"Pajak (10%):\", pajak)\n",
    "print(\"Grand Total:\", grand_total)"
   ]
  },
  {
   "cell_type": "markdown",
   "id": "d9c6126f",
   "metadata": {},
   "source": [
    "### Tutorial-05:"
   ]
  },
  {
   "cell_type": "markdown",
   "id": "c7183c7e",
   "metadata": {},
   "source": [
    "Kembangkan sebuah aplikasi yang dapat menghitung rata-rata pemasukan dan pengeluaran selama satu tahun. Kerjakan sesuai tahapan berikut ini.\n",
    "- 1: Simpan data pemasukan dan pengeluaran ke dalam sebuah dictionary dengan nama catatan\n",
    "- 2: Hitung total pemasukan selama satu tahun\n",
    "- 3: Hitung total pengeluaran selama satu tahun\n",
    "- 4: Cetak rata-rata pemasukan selama satu tahun\n",
    "- 5: Cetak rata-rata pengeluaran selama satu tahun"
   ]
  },
  {
   "cell_type": "code",
   "execution_count": 23,
   "id": "ec1bbb08",
   "metadata": {},
   "outputs": [
    {
     "name": "stdout",
     "output_type": "stream",
     "text": [
      "Total Pemasukan Selama Satu Tahun: 96.19999999999999 juta\n",
      "Total Pengeluaran Selama Satu Tahun: 38.650000000000006 juta\n",
      "Rata-rata Pemasukan Selama Satu Tahun: 8.016666666666666 juta\n",
      "Rata-rata Pengeluaran Selama Satu Tahun: 3.2208333333333337 juta\n"
     ]
    }
   ],
   "source": [
    "catatan = {\n",
    "    \"pemasukan\": [7.8, 7.5, 9, 7.6, 7.2, 7.5, 7, 10, 7.5, 8.5, 7.8, 8.8],\n",
    "    \"pengeluaran\": [2, 2.5, 2.25, 2.5, 3.2, 2.5, 3.5, 4, 3, 5, 4.5, 3.7]\n",
    "}\n",
    "\n",
    "totalPemasukan = sum(catatan[\"pemasukan\"])\n",
    "\n",
    "totalPengeluaran = sum(catatan[\"pengeluaran\"])\n",
    "\n",
    "rata_rataPemasukan = totalPemasukan / len(catatan[\"pemasukan\"])\n",
    "\n",
    "rata = totalPengeluaran / len(catatan[\"pengeluaran\"])\n",
    "\n",
    "print(\"Total Pemasukan selama satu tahun:\", totalPemasukan, \"juta\")\n",
    "print(\"Total Pengeluaran selama satu tahun:\", totalPengeluaran, \"juta\")\n",
    "print(\"Rata-rata Pemasukan selama satu tahun:\", rata_rataPemasukan, \"juta\")\n",
    "print(\"Rata-rata Pengeluaran selama satu tahun:\", rata, \"juta\")"
   ]
  },
  {
   "cell_type": "code",
   "execution_count": null,
   "id": "ba6ad169-fc9d-4cd0-ba30-6ed820f35a38",
   "metadata": {},
   "outputs": [],
   "source": []
  }
 ],
 "metadata": {
  "kernel_info": {
   "name": "python"
  },
  "kernelspec": {
   "display_name": "anaconda-2022.05-py39",
   "language": "python",
   "name": "conda-env-anaconda-2022.05-py39-py"
  },
  "language_info": {
   "codemirror_mode": {
    "name": "ipython",
    "version": 3
   },
   "file_extension": ".py",
   "mimetype": "text/x-python",
   "name": "python",
   "nbconvert_exporter": "python",
   "pygments_lexer": "ipython3",
   "version": "3.9.12"
  },
  "nteract": {
   "version": "nteract-front-end@1.0.0"
  }
 },
 "nbformat": 4,
 "nbformat_minor": 5
}
