{
 "cells": [
  {
   "cell_type": "markdown",
   "id": "69ba06e1",
   "metadata": {},
   "source": [
    "# Library Pandas"
   ]
  },
  {
   "cell_type": "markdown",
   "id": "b557b1d5",
   "metadata": {},
   "source": [
    "Pandas adalah library Python open source yang biasanya digunakan untuk kebutuhan analisis data. Pandas membuat Python supaya dapat bekerja dengan data yang berbentuk tabular, seperti spreadsheet dengan cara pemuatan data yang cepat, manipulasi data, menggabungkan data, serta berbagai fungsi yang lain. Di Pandas terdapat 2 kelas data baru yang digunakan sebagai struktur dari spreadsheet, yaitu Series dan Data Frame."
   ]
  },
  {
   "cell_type": "markdown",
   "id": "e673d6c3",
   "metadata": {},
   "source": [
    "## Data Frame"
   ]
  },
  {
   "cell_type": "markdown",
   "id": "68869b00",
   "metadata": {},
   "source": [
    "Data frame merupakan gabungan dari Series, berbentuk rectangular data yang merupakan tabel spreadsheet itu sendiri (karena dibentuk dari banyak Series, maka tiap Series biasanya mempunyai 1 tipe data, yang artinya 1 data frame bisa memiliki banyak tipe data)."
   ]
  },
  {
   "cell_type": "markdown",
   "id": "72b43690",
   "metadata": {},
   "source": [
    "### Tutorial-01:"
   ]
  },
  {
   "cell_type": "markdown",
   "id": "40e349c2",
   "metadata": {},
   "source": [
    "Kerjakan sesuai tahapan berikut ini.\n",
    "- 1: Impor library Pandas\n",
    "- 2: Buat sebuah data frame dari dictionary 'a': [1, 2], 'b': [3, 4] dan disimpan ke dalam variabel df1\n",
    "- 3: Buat sebuah data frame dari dictionary 'b': [1, 2], 'a': [3, 4] dan disimpan ke dalam variabel df2\n",
    "- 4: Lakukan penggabungan untuk kedua data frame tersebut\n",
    "- 5: Tampilkan hasil penggabungannya"
   ]
  },
  {
   "cell_type": "code",
   "execution_count": 25,
   "id": "d250e97c",
   "metadata": {},
   "outputs": [
    {
     "name": "stdout",
     "output_type": "stream",
     "text": [
      "   a  b\n",
      "0  1  3\n",
      "1  2  4\n",
      "0  3  1\n",
      "1  4  2\n"
     ]
    }
   ],
   "source": [
    "import pandas as pd\n",
    "\n",
    "data1 = {'a': [1, 2], 'b': [3, 4]}\n",
    "df1 = pd.DataFrame(data1)\n",
    "\n",
    "data2 = {'b': [1, 2], 'a': [3, 4]}\n",
    "df2 = pd.DataFrame(data2)\n",
    "\n",
    "result = pd.concat([df1, df2])\n",
    "print(result)"
   ]
  },
  {
   "cell_type": "markdown",
   "id": "fad660d2",
   "metadata": {},
   "source": [
    "### Tutorial-02:"
   ]
  },
  {
   "cell_type": "markdown",
   "id": "403125de",
   "metadata": {},
   "source": [
    "Kerjakan sesuai tahapan berikut ini.\n",
    "- 1: Buat sebuah data frame dari list yang berisi list berikut ini: ['Peter', 16, 'pupil', 'TN', 'M', None], ['Mary', 21, 'student', 'SG', 'F', None], ['Nam', 22, 'student', 'HN', 'M', None], ['Mai', 31, 'nurse', 'SG', 'F', None], ['John', 28, 'laywer', 'SG', 'M', None]\n",
    "- 2: Ubah kolom dari data frame tersebut menjadi: name, age, career, province, sex, dan award\n",
    "- 3: Ubah baris dari data frame tersebut menjadi: satu, dua, tiga, empat, dan lima\n",
    "- 4: Tampilkan data frame tersebut\n",
    "- 5: Tampilkan kolom name data frame tersebut\n",
    "- 6: Tambah sebuah kolom bernama country yang berisi nilai USA ke data frame tersebut dan tampilkan\n",
    "- 7: Tampilkan identitas dari individu yang bernama Mary"
   ]
  },
  {
   "cell_type": "code",
   "execution_count": 29,
   "id": "721163ce",
   "metadata": {},
   "outputs": [
    {
     "name": "stdout",
     "output_type": "stream",
     "text": [
      "Data Frame:\n",
      "        name  age   career province sex award\n",
      "satu   Peter   16    pupil       TN   M  None\n",
      "dua     Mary   21  student       SG   F  None\n",
      "tiga     Nam   22  student       HN   M  None\n",
      "empat    Mai   31    nurse       SG   F  None\n",
      "lima    John   28   lawyer       SG   M  None\n",
      "\n",
      "Kolom   name:\n",
      "satu     Peter\n",
      "dua       Mary\n",
      "tiga       Nam\n",
      "empat      Mai\n",
      "lima      John\n",
      "Name: name, dtype: object\n",
      "\n",
      "Data Frame setelah penambahan kolom 'country' USA:\n",
      "        name  age   career province sex award country\n",
      "satu   Peter   16    pupil       TN   M  None     USA\n",
      "dua     Mary   21  student       SG   F  None     USA\n",
      "tiga     Nam   22  student       HN   M  None     USA\n",
      "empat    Mai   31    nurse       SG   F  None     USA\n",
      "lima    John   28   lawyer       SG   M  None     USA\n",
      "\n",
      "Identitas Mary:\n",
      "     name  age   career province sex award country\n",
      "dua  Mary   21  student       SG   F  None     USA\n"
     ]
    }
   ],
   "source": [
    "#Tahap 1\n",
    "import pandas as pd\n",
    "\n",
    "data = [['Peter', 16, 'pupil', 'TN', 'M', None],\n",
    "        ['Mary', 21, 'student', 'SG', 'F', None],\n",
    "        ['Nam', 22, 'student', 'HN', 'M', None],\n",
    "        ['Mai', 31, 'nurse', 'SG', 'F', None],\n",
    "        ['John', 28, 'lawyer', 'SG', 'M', None]]\n",
    "\n",
    "#Buat DataFrame dan simpan ke dalam variabel df\n",
    "df = pd.DataFrame(data)\n",
    "\n",
    "#Tahap 2\n",
    "df.columns = ['name', 'age', 'career', 'province', 'sex', 'award']\n",
    "\n",
    "#Tahap 3\n",
    "df.index = ['satu', 'dua', 'tiga', 'empat', 'lima']\n",
    "\n",
    "#Tahap 4\n",
    "print(\"Data Frame:\")\n",
    "print(df)\n",
    "\n",
    "#Tahap 5\n",
    "print(\"\\nKolom   name:\")\n",
    "print(df['name'])\n",
    "\n",
    "#Tahap 6\n",
    "df['country'] = 'USA'\n",
    "\n",
    "# Tampilkan DataFrame setelah penambahan kolom 'country' USA\n",
    "print(\"\\nData Frame setelah penambahan kolom 'country' USA:\")\n",
    "print(df)\n",
    "\n",
    "# Tahap 7: Tampilkan identitas dari individu yang bernama 'Mary'\n",
    "mary_info = df[df['name'] == 'Mary']\n",
    "print(\"\\nIdentitas Mary:\")\n",
    "print(mary_info)"
   ]
  },
  {
   "cell_type": "markdown",
   "id": "17abdd9d",
   "metadata": {},
   "source": [
    "### Tutorial-03"
   ]
  },
  {
   "cell_type": "markdown",
   "id": "4562e0bd",
   "metadata": {},
   "source": [
    "Kerjakan sesuai tahapan berikut ini.\n",
    "- 1: Impor library Numpy\n",
    "- 2: Buat sebuah data frame dari array 3 x 3 yang berisi nilai 0, 1, 2, ..., 8 secara berurutan per baris\n",
    "- 3: Ubah kolom dari data frame tersebut menjadi: a, b, c\n",
    "- 4: Buat sebuah data frame dari array 2 x 4 yang berisi nilai 0, 1, 2, ..., 7 secara berurutan per baris\n",
    "- 5: Ubah kolom dari data frame tersebut menjadi: a, b, c, d\n",
    "- 6: Lakukan penjumlahan pada kedua data frame tersebut dan tampilkan hasilnya"
   ]
  },
  {
   "cell_type": "code",
   "execution_count": 31,
   "id": "895be1e8",
   "metadata": {},
   "outputs": [
    {
     "name": "stdout",
     "output_type": "stream",
     "text": [
      "Hasil Penjumlahan:\n",
      "     a    b     c   d\n",
      "0  0.0  2.0   4.0 NaN\n",
      "1  7.0  9.0  11.0 NaN\n",
      "2  NaN  NaN   NaN NaN\n"
     ]
    }
   ],
   "source": [
    "#Tahap 1\n",
    "import numpy as np\n",
    "import pandas as pd\n",
    "\n",
    "#Tahap 2\n",
    "data1 = np.arange(9).reshape(3, 3)\n",
    "df1 = pd.DataFrame(data1, columns=['a', 'b', 'c'])\n",
    "\n",
    "#Tahap 3\n",
    "df1.columns = ['a', 'b', 'c']\n",
    "\n",
    "#Tahap 4\n",
    "data2 = np.arange(8).reshape(2, 4)\n",
    "df2 = pd.DataFrame(data2, columns=['a', 'b', 'c', 'd'])\n",
    "\n",
    "#Tahap 5\n",
    "df2.columns = ['a', 'b', 'c', 'd']\n",
    "\n",
    "#Tahap 6\n",
    "hasil = df1 + df2\n",
    "print(\"Hasil Penjumlahan:\")\n",
    "print(hasil)"
   ]
  },
  {
   "cell_type": "markdown",
   "id": "fad5a48c",
   "metadata": {},
   "source": [
    "### Tutorial-04"
   ]
  },
  {
   "attachments": {
    "image_2021-11-08_012508.png": {
     "image/png": "[encoded data removed]"
    }
   },
   "cell_type": "markdown",
   "id": "60348f98",
   "metadata": {},
   "source": [
    "Kembangkan sebuah aplikasi untuk membuat data frame yang dapat mengelola tiga nama siswa yang dikaitkan dengan nilai mereka pada tiga mata kuliah. Selanjutnya, tambahkan sebuah kolom baru bernama Mean (Rata-Rata) untuk menghitung nilai rata-rata per mata kuliah. Tampilkan data frame setelah proses kalkulasi.\n",
    "![image_2021-11-08_012508.png](attachment:image_2021-11-08_012508.png)"
   ]
  },
  {
   "cell_type": "code",
   "execution_count": 33,
   "id": "374c58a1",
   "metadata": {},
   "outputs": [
    {
     "name": "stdout",
     "output_type": "stream",
     "text": [
      "    Name  Course 1  Course 2  Course 3       Mean\n",
      "0   Omar        90        50        89  76.333333\n",
      "1    Ali        78        75        73  75.333333\n",
      "2  Osama        67        85        80  77.333333\n"
     ]
    }
   ],
   "source": [
    "import pandas as pd\n",
    "\n",
    "data = {'Name': ['Omar', 'Ali', 'Osama'],\n",
    "        'Course 1': [90, 78, 67],\n",
    "        'Course 2': [50, 75, 85],\n",
    "        'Course 3': [89, 73, 80]}\n",
    "df = pd.DataFrame(data)\n",
    "\n",
    "df['Mean'] = df[['Course 1', 'Course 2', 'Course 3']].mean(axis=1)\n",
    "print(df)"
   ]
  }
 ],
 "metadata": {
  "kernelspec": {
   "display_name": "anaconda-2022.05-py39",
   "language": "python",
   "name": "conda-env-anaconda-2022.05-py39-py"
  },
  "language_info": {
   "codemirror_mode": {
    "name": "ipython",
    "version": 3
   },
   "file_extension": ".py",
   "mimetype": "text/x-python",
   "name": "python",
   "nbconvert_exporter": "python",
   "pygments_lexer": "ipython3",
   "version": "3.9.12"
  }
 },
 "nbformat": 4,
 "nbformat_minor": 5
}
