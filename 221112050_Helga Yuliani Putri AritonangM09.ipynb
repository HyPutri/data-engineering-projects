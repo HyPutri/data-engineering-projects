{
 "cells": [
  {
   "cell_type": "markdown",
   "id": "69ba06e1",
   "metadata": {},
   "source": [
    "# Merging Data"
   ]
  },
  {
   "cell_type": "markdown",
   "id": "c29b65d6",
   "metadata": {},
   "source": [
    "### Tutorial-01:"
   ]
  },
  {
   "cell_type": "markdown",
   "id": "40e349c2",
   "metadata": {},
   "source": [
    "Pada kasus dimana dua data frame memiliki bentuk yang serupa, maka mungkin akan berguna untuk menambahkan satu per satu data. Misalkan A dan B adalah produk dan data frame berisi jumlah item yang terjual per produk di beberapa toko. Buat dua buah data frame untuk menyimpan data produk (A dan B) beserta jumlah item yang terjual per produk di beberapa toko. Produk dijadikan sebagai kolom serta disimpan sebagai dictionary.\n",
    "- Data frame 1: Produk A terjual sebanyak 1, 2, dan 3, sedangkan produk B terjual sebanyak 4, 5, dan 6\n",
    "- Data frame 2: Produk A terjual sebanyak 4, 5, dan 6, sedangkan produk B terjual sebanyak 7, 8, dan 9"
   ]
  },
  {
   "cell_type": "code",
   "execution_count": 36,
   "id": "d250e97c",
   "metadata": {},
   "outputs": [
    {
     "name": "stdout",
     "output_type": "stream",
     "text": [
      "  Produk  Toko_1  Toko_2  Toko_3\n",
      "0      A       1       2       3\n",
      "1      B       4       5       6\n",
      "2      A       4       5       6\n",
      "3      B       7       8       9\n"
     ]
    }
   ],
   "source": [
    "import pandas as pd\n",
    "\n",
    "data1 = {'Produk': ['A', 'B'],\n",
    "         'Toko_1': [1, 4],\n",
    "         'Toko_2': [2, 5],\n",
    "         'Toko_3': [3, 6]}\n",
    "df1 = pd.DataFrame(data1)\n",
    "\n",
    "data2 = {'Produk': ['A', 'B'],\n",
    "         'Toko_1': [4, 7],\n",
    "         'Toko_2': [5, 8],\n",
    "         'Toko_3': [6, 9]}\n",
    "df2 = pd.DataFrame(data2)\n",
    "\n",
    "df_result = pd.concat([df1, df2], ignore_index=True)\n",
    "print(df_result)"
   ]
  },
  {
   "cell_type": "markdown",
   "id": "fad660d2",
   "metadata": {},
   "source": [
    "### Tutorial-02:"
   ]
  },
  {
   "cell_type": "markdown",
   "id": "403125de",
   "metadata": {},
   "source": [
    "Lakukan penggabungan data dari kedua data frame tersebut dengan menggunakan fungsi append."
   ]
  },
  {
   "cell_type": "code",
   "execution_count": 35,
   "id": "721163ce",
   "metadata": {},
   "outputs": [
    {
     "name": "stdout",
     "output_type": "stream",
     "text": [
      "  Produk  Toko_1  Toko_2  Toko_3\n",
      "0      A       1       2       3\n",
      "1      B       4       5       6\n",
      "2      A       4       5       6\n",
      "3      B       7       8       9\n"
     ]
    },
    {
     "name": "stderr",
     "output_type": "stream",
     "text": [
      "/tmp/ipykernel_149/4288967586.py:17: FutureWarning: The frame.append method is deprecated and will be removed from pandas in a future version. Use pandas.concat instead.\n",
      "  df_result = df_result.append(df1, ignore_index=True)\n",
      "/tmp/ipykernel_149/4288967586.py:18: FutureWarning: The frame.append method is deprecated and will be removed from pandas in a future version. Use pandas.concat instead.\n",
      "  df_result = df_result.append(df2, ignore_index=True)\n"
     ]
    }
   ],
   "source": [
    "import pandas as pd\n",
    "\n",
    "data1 = {'Produk': ['A', 'B'],\n",
    "         'Toko_1': [1, 4],\n",
    "         'Toko_2': [2, 5],\n",
    "         'Toko_3': [3, 6]}\n",
    "df1 = pd.DataFrame(data1)\n",
    "\n",
    "data2 = {'Produk': ['A', 'B'],\n",
    "         'Toko_1': [4, 7],\n",
    "         'Toko_2': [5, 8],\n",
    "         'Toko_3': [6, 9]}\n",
    "df2 = pd.DataFrame(data2)\n",
    "\n",
    "df_result = pd.DataFrame()\n",
    "\n",
    "df_result = df_result.append(df1, ignore_index=True)\n",
    "df_result = df_result.append(df2, ignore_index=True)\n",
    "\n",
    "print(df_result)"
   ]
  },
  {
   "cell_type": "markdown",
   "id": "17abdd9d",
   "metadata": {},
   "source": [
    "### Tutorial-03"
   ]
  },
  {
   "cell_type": "markdown",
   "id": "4562e0bd",
   "metadata": {},
   "source": [
    "Lakukan penggabungan data kembali dari kedua data frame tersebut dengan menggunakan fungsi append, namun abaikan indeks dari data frame asal."
   ]
  },
  {
   "cell_type": "code",
   "execution_count": 34,
   "id": "895be1e8",
   "metadata": {},
   "outputs": [
    {
     "name": "stdout",
     "output_type": "stream",
     "text": [
      "  Produk  Toko_1  Toko_2  Toko_3\n",
      "0      A       1       2       3\n",
      "1      B       4       5       6\n",
      "2      A       4       5       6\n",
      "3      B       7       8       9\n"
     ]
    },
    {
     "name": "stderr",
     "output_type": "stream",
     "text": [
      "/tmp/ipykernel_149/4288967586.py:17: FutureWarning: The frame.append method is deprecated and will be removed from pandas in a future version. Use pandas.concat instead.\n",
      "  df_result = df_result.append(df1, ignore_index=True)\n",
      "/tmp/ipykernel_149/4288967586.py:18: FutureWarning: The frame.append method is deprecated and will be removed from pandas in a future version. Use pandas.concat instead.\n",
      "  df_result = df_result.append(df2, ignore_index=True)\n"
     ]
    }
   ],
   "source": [
    "import pandas as pd\n",
    "\n",
    "data1 = {'Produk': ['A', 'B'],\n",
    "         'Toko_1': [1, 4],\n",
    "         'Toko_2': [2, 5],\n",
    "         'Toko_3': [3, 6]}\n",
    "df1 = pd.DataFrame(data1)\n",
    "\n",
    "data2 = {'Produk': ['A', 'B'],\n",
    "         'Toko_1': [4, 7],\n",
    "         'Toko_2': [5, 8],\n",
    "         'Toko_3': [6, 9]}\n",
    "df2 = pd.DataFrame(data2)\n",
    "\n",
    "df_result = pd.DataFrame()\n",
    "\n",
    "df_result = df_result.append(df1, ignore_index=True)\n",
    "df_result = df_result.append(df2, ignore_index=True)\n",
    "\n",
    "print(df_result)"
   ]
  },
  {
   "cell_type": "markdown",
   "id": "fad5a48c",
   "metadata": {},
   "source": [
    "### Tutorial-04"
   ]
  },
  {
   "cell_type": "markdown",
   "id": "60348f98",
   "metadata": {},
   "source": [
    "Cara yang lebih fleksibel untuk menggabungkan data bisa menggunakan fungsi concat, yaitu mengambil sejumlah series ataupun data frame sebagai input. Lakukan penggabungan data dari kedua data frame tersebut dengan menggunakan fungsi concat."
   ]
  },
  {
   "cell_type": "code",
   "execution_count": 33,
   "id": "374c58a1",
   "metadata": {},
   "outputs": [
    {
     "name": "stdout",
     "output_type": "stream",
     "text": [
      "  Produk  Toko_1  Toko_2  Toko_3\n",
      "0      A       1       2       3\n",
      "1      B       4       5       6\n",
      "2      A       4       5       6\n",
      "3      B       7       8       9\n"
     ]
    }
   ],
   "source": [
    "import pandas as pd\n",
    "\n",
    "data1 = {'Produk': ['A', 'B'],\n",
    "         'Toko_1': [1, 4],\n",
    "         'Toko_2': [2, 5],\n",
    "         'Toko_3': [3, 6]}\n",
    "df1 = pd.DataFrame(data1)\n",
    "\n",
    "data2 = {'Produk': ['A', 'B'],\n",
    "         'Toko_1': [4, 7],\n",
    "         'Toko_2': [5, 8],\n",
    "         'Toko_3': [6, 9]}\n",
    "df2 = pd.DataFrame(data2)\n",
    "\n",
    "df_result = pd.concat([df1, df2], ignore_index=True)\n",
    "print(df_result)"
   ]
  },
  {
   "cell_type": "markdown",
   "id": "bbeb95cb",
   "metadata": {},
   "source": [
    "### Tutorial-05"
   ]
  },
  {
   "cell_type": "markdown",
   "id": "f4b41c6c",
   "metadata": {},
   "source": [
    "Operasi concat secara default menambahkan kedua data frame sebagai baris atau indeks (axis 0). Coba lakukan kembali penggabungan data, namun kali ini secara kolom. Hint: gunakan parameter axis pada fungsi concat."
   ]
  },
  {
   "cell_type": "code",
   "execution_count": 32,
   "id": "2703c7cf",
   "metadata": {},
   "outputs": [
    {
     "name": "stdout",
     "output_type": "stream",
     "text": [
      "  Produk  Toko_1  Toko_2  Toko_3 Produk  Toko_1  Toko_2  Toko_3\n",
      "0      A       1       2       3      A       4       5       6\n",
      "1      B       4       5       6      B       7       8       9\n"
     ]
    }
   ],
   "source": [
    "import pandas as pd\n",
    "\n",
    "data1 = {'Produk': ['A', 'B'],\n",
    "         'Toko_1': [1, 4],\n",
    "         'Toko_2': [2, 5],\n",
    "         'Toko_3': [3, 6]}\n",
    "df1 = pd.DataFrame(data1)\n",
    "\n",
    "data2 = {'Produk': ['A', 'B'],\n",
    "         'Toko_1': [4, 7],\n",
    "         'Toko_2': [5, 8],\n",
    "         'Toko_3': [6, 9]}\n",
    "df2 = pd.DataFrame(data2)\n",
    "\n",
    "df_result = pd.concat([df1, df2], axis=1)\n",
    "print(df_result)"
   ]
  },
  {
   "cell_type": "markdown",
   "id": "a9c1f952",
   "metadata": {},
   "source": [
    "### Tutorial-06"
   ]
  },
  {
   "cell_type": "markdown",
   "id": "7c87d5d3",
   "metadata": {},
   "source": [
    "Tambahkan kunci sebagai indeks pada penggabungan data frame sebelumnya. Kunci untuk data frame pertama adalah UK, sedangkan kunci untuk data frame kedua adalah DE. Hint: gunakan parameter keys pada fungsi concat. Tampilkan sebagai data frame baru serta tampilkan isi dari data frame dengan kunci UK."
   ]
  },
  {
   "cell_type": "code",
   "execution_count": 31,
   "id": "6eb5c014",
   "metadata": {},
   "outputs": [
    {
     "name": "stdout",
     "output_type": "stream",
     "text": [
      "     Produk  Toko_1  Toko_2  Toko_3\n",
      "UK 0      A       1       2       3\n",
      "   1      B       4       5       6\n",
      "DE 0      A       4       5       6\n",
      "   1      B       7       8       9\n",
      "\n",
      "Isi data frame dengan kunci 'UK':\n",
      "  Produk  Toko_1  Toko_2  Toko_3\n",
      "0      A       1       2       3\n",
      "1      B       4       5       6\n"
     ]
    }
   ],
   "source": [
    "import pandas as pd\n",
    "\n",
    "data1 = {'Produk': ['A', 'B'],\n",
    "         'Toko_1': [1, 4],\n",
    "         'Toko_2': [2, 5],\n",
    "         'Toko_3': [3, 6]}\n",
    "df1 = pd.DataFrame(data1)\n",
    "\n",
    "data2 = {'Produk': ['A', 'B'],\n",
    "         'Toko_1': [4, 7],\n",
    "         'Toko_2': [5, 8],\n",
    "         'Toko_3': [6, 9]}\n",
    "df2 = pd.DataFrame(data2)\n",
    "\n",
    "df_result = pd.concat([df1, df2], keys=['UK', 'DE'])\n",
    "\n",
    "# Menampilkan hasil\n",
    "print(df_result)\n",
    "print(\"\\nIsi data frame dengan kunci 'UK':\")\n",
    "print(df_result.loc['UK'])"
   ]
  },
  {
   "cell_type": "markdown",
   "id": "8865b76a",
   "metadata": {},
   "source": [
    "### Tutorial-07"
   ]
  },
  {
   "cell_type": "markdown",
   "id": "6ef9675e",
   "metadata": {},
   "source": [
    "Buat dua buah data frame dari dictionary.\n",
    "- Data frame 1: key 'produk' berisi nilai A, B, C, dan D, sedangkan key 'jumlah' berisi nilai dari 0 s.d. 3\n",
    "- Data frame 2: key 'produk' berisi nilai B, D, D, dan D, sedangkan key 'jumlah' berisi nilai dari 10 s.d. 13"
   ]
  },
  {
   "cell_type": "code",
   "execution_count": 30,
   "id": "d817c555",
   "metadata": {},
   "outputs": [
    {
     "name": "stdout",
     "output_type": "stream",
     "text": [
      "Data Frame 1:\n",
      "  produk  jumlah\n",
      "0      A       0\n",
      "1      B       1\n",
      "2      C       2\n",
      "3      D       3\n",
      "\n",
      "Data Frame 2:\n",
      "  produk  jumlah\n",
      "0      B      10\n",
      "1      D      11\n",
      "2      D      12\n",
      "3      D      13\n"
     ]
    }
   ],
   "source": [
    "import pandas as pd\n",
    "\n",
    "data1 = {'produk': ['A', 'B', 'C', 'D'],\n",
    "         'jumlah': list(range(4))}\n",
    "df1 = pd.DataFrame(data1)\n",
    "\n",
    "data2 = {'produk': ['B', 'D', 'D', 'D'],\n",
    "         'jumlah': list(range(10, 14))}\n",
    "df2 = pd.DataFrame(data2)\n",
    "\n",
    "print(\"Data Frame 1:\")\n",
    "print(df1)\n",
    "print(\"\\nData Frame 2:\")\n",
    "print(df2)"
   ]
  },
  {
   "cell_type": "markdown",
   "id": "aa9369a6",
   "metadata": {},
   "source": [
    "### Tutorial-08"
   ]
  },
  {
   "cell_type": "markdown",
   "id": "bda4550b",
   "metadata": {},
   "source": [
    "Lakukan penggabungan inner join pada kedua data frame tersebut berdasarkan produk dengan menggunakan fungsi merge. Hint: gunakan parameter on pada fungsi merge."
   ]
  },
  {
   "cell_type": "code",
   "execution_count": 29,
   "id": "4c753c6e",
   "metadata": {},
   "outputs": [
    {
     "name": "stdout",
     "output_type": "stream",
     "text": [
      "  produk  jumlah_x  jumlah_y\n",
      "0      B         1        10\n",
      "1      D         3        11\n",
      "2      D         3        12\n",
      "3      D         3        13\n"
     ]
    }
   ],
   "source": [
    "import pandas as pd\n",
    "\n",
    "data1 = {'produk': ['A', 'B', 'C', 'D'],\n",
    "         'jumlah': list(range(4))}\n",
    "df1 = pd.DataFrame(data1)\n",
    "\n",
    "data2 = {'produk': ['B', 'D', 'D', 'D'],\n",
    "         'jumlah': list(range(10, 14))}\n",
    "df2 = pd.DataFrame(data2)\n",
    "\n",
    "# Melakukan inner join berdasarkan kolom 'produk'\n",
    "df_result = pd.merge(df1, df2, on='produk', how='inner')\n",
    "print(df_result)"
   ]
  },
  {
   "cell_type": "markdown",
   "id": "d2796f71",
   "metadata": {},
   "source": [
    "### Tutorial-09"
   ]
  },
  {
   "cell_type": "markdown",
   "id": "eac218a1",
   "metadata": {},
   "source": [
    "Lakukan juga penggabungan secara left join, right join, dan outer join pada kedua data frame tersebut berdasarkan produk. Hint: gunakan parameter how pada fungsi merge."
   ]
  },
  {
   "cell_type": "code",
   "execution_count": 28,
   "id": "85ffc986",
   "metadata": {},
   "outputs": [
    {
     "name": "stdout",
     "output_type": "stream",
     "text": [
      "Left Join:\n",
      "  produk  jumlah_x  jumlah_y\n",
      "0      A         0       NaN\n",
      "1      B         1      10.0\n",
      "2      C         2       NaN\n",
      "3      D         3      11.0\n",
      "4      D         3      12.0\n",
      "\n",
      "Right Join:\n",
      "  produk  jumlah_x  jumlah_y\n",
      "0      B       1.0        10\n",
      "1      D       3.0        11\n",
      "2      D       3.0        12\n",
      "3      E       NaN        13\n",
      "\n",
      "Outer Join:\n",
      "  produk  jumlah_x  jumlah_y\n",
      "0      A       0.0       NaN\n",
      "1      B       1.0      10.0\n",
      "2      C       2.0       NaN\n",
      "3      D       3.0      11.0\n",
      "4      D       3.0      12.0\n",
      "5      E       NaN      13.0\n"
     ]
    }
   ],
   "source": [
    "import pandas as pd\n",
    "\n",
    "data1 = {'produk': ['A', 'B', 'C', 'D'],\n",
    "         'jumlah': list(range(4))}\n",
    "df1 = pd.DataFrame(data1)\n",
    "\n",
    "data2 = {'produk': ['B', 'D', 'D', 'E'],\n",
    "         'jumlah': list(range(10, 14))}\n",
    "df2 = pd.DataFrame(data2)\n",
    "\n",
    "# Left join berdasarkan kolom 'produk'\n",
    "left_join_result = pd.merge(df1, df2, on='produk', how='left')\n",
    "print(\"Left Join:\")\n",
    "print(left_join_result)\n",
    "\n",
    "# Right join berdasarkan kolom 'produk'\n",
    "right_join_result = pd.merge(df1, df2, on='produk', how='right')\n",
    "print(\"\\nRight Join:\")\n",
    "print(right_join_result)\n",
    "\n",
    "# Outer join berdasarkan kolom 'produk'\n",
    "outer_join_result = pd.merge(df1, df2, on='produk', how='outer')\n",
    "print(\"\\nOuter Join:\")\n",
    "print(outer_join_result)"
   ]
  },
  {
   "cell_type": "code",
   "execution_count": null,
   "id": "d1193313-3f37-4267-bd2f-d9ef44a1abdd",
   "metadata": {},
   "outputs": [],
   "source": []
  }
 ],
 "metadata": {
  "kernelspec": {
   "display_name": "anaconda-2022.05-py39",
   "language": "python",
   "name": "conda-env-anaconda-2022.05-py39-py"
  },
  "language_info": {
   "codemirror_mode": {
    "name": "ipython",
    "version": 3
   },
   "file_extension": ".py",
   "mimetype": "text/x-python",
   "name": "python",
   "nbconvert_exporter": "python",
   "pygments_lexer": "ipython3",
   "version": "3.9.12"
  }
 },
 "nbformat": 4,
 "nbformat_minor": 5
}
