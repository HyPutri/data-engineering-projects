{
 "cells": [
  {
   "cell_type": "markdown",
   "id": "69ba06e1",
   "metadata": {},
   "source": [
    "# Data Gathering and Cleaning"
   ]
  },
  {
   "cell_type": "markdown",
   "id": "e673d6c3",
   "metadata": {},
   "source": [
    "## Studi Kasus: Penyebab Kematian di Amerika Serikat (1999–2015)"
   ]
  },
  {
   "cell_type": "markdown",
   "id": "68869b00",
   "metadata": {},
   "source": [
    "Studi ini menganalisis penyebab utama kematian di Amerika Serikat antara tahun 1999 dan 2015."
   ]
  },
  {
   "cell_type": "markdown",
   "id": "c29b65d6",
   "metadata": {},
   "source": [
    "### Tutorial-01:"
   ]
  },
  {
   "cell_type": "markdown",
   "id": "40e349c2",
   "metadata": {},
   "source": [
    "Data set pada studi kasus ini berasal dari open data pemerintah Amerika Serikat yang dapat diakses melalui laman https://data.gov. Baca data dari file CSV bernama NCHS.csv dan simpan data ini ke dalam data frame bernama dataNCHS. Tampilkan delapan baris pertama dari data frame tersebut."
   ]
  },
  {
   "cell_type": "code",
   "execution_count": 23,
   "id": "d250e97c",
   "metadata": {},
   "outputs": [
    {
     "name": "stdout",
     "output_type": "stream",
     "text": [
      "   Year                                     113 Cause Name  \\\n",
      "0  1999  Accidents (unintentional injuries) (V01-X59,Y8...   \n",
      "1  1999  Accidents (unintentional injuries) (V01-X59,Y8...   \n",
      "2  1999  Accidents (unintentional injuries) (V01-X59,Y8...   \n",
      "3  1999  Accidents (unintentional injuries) (V01-X59,Y8...   \n",
      "4  1999  Accidents (unintentional injuries) (V01-X59,Y8...   \n",
      "5  1999  Accidents (unintentional injuries) (V01-X59,Y8...   \n",
      "6  1999  Accidents (unintentional injuries) (V01-X59,Y8...   \n",
      "7  1999  Accidents (unintentional injuries) (V01-X59,Y8...   \n",
      "\n",
      "               Cause Name        State  Deaths  Age-adjusted Death Rate  \n",
      "0  Unintentional Injuries      Alabama  2313.0                     52.2  \n",
      "1  Unintentional Injuries       Alaska   294.0                     55.9  \n",
      "2  Unintentional Injuries      Arizona  2214.0                     44.8  \n",
      "3  Unintentional Injuries     Arkansas  1287.0                     47.6  \n",
      "4  Unintentional Injuries   California  9198.0                     28.7  \n",
      "5  Unintentional Injuries     Colorado  1519.0                     39.0  \n",
      "6  Unintentional Injuries  Connecticut  1034.0                     29.3  \n",
      "7  Unintentional Injuries     Delaware   267.0                     35.3  \n"
     ]
    }
   ],
   "source": [
    "import pandas as pd\n",
    "\n",
    "dataNCHS = pd.read_csv(\"NCHS.csv\")\n",
    "print(dataNCHS.head(8))"
   ]
  },
  {
   "cell_type": "markdown",
   "id": "fad660d2",
   "metadata": {},
   "source": [
    "### Tutorial-02:"
   ]
  },
  {
   "cell_type": "markdown",
   "id": "403125de",
   "metadata": {},
   "source": [
    "Lakukan pembersihan data sesuai tahapan berikut ini.\n",
    "- 1: Tampilkan jumlah baris dan jumlah atribut pada data set tersebut\n",
    "- 2: Hapus semua baris yang berisi missing data\n",
    "- 3: Tampilkan jumlah baris dan jumlah atribut pada data set tersebut setelah proses penghapusan missing data"
   ]
  },
  {
   "cell_type": "code",
   "execution_count": 21,
   "id": "721163ce",
   "metadata": {},
   "outputs": [
    {
     "name": "stdout",
     "output_type": "stream",
     "text": [
      "Jumlah baris dan atribut sebelum pembersihan: (15028, 6)\n",
      "Jumlah baris dan atribut setelah penghapusan missing data: (14917, 6)\n"
     ]
    }
   ],
   "source": [
    "#1. Menampilkan jumlah baris dan jumlah atribut pada data set\n",
    "print(\"Jumlah baris dan atribut sebelum pembersihan:\",dataNCHS.shape)\n",
    "\n",
    "#2. Menghapus baris yang berisi missing data\n",
    "dataNCHS_cleaned = dataNCHS.dropna()\n",
    "\n",
    "#3. Menampilkan jumlah baris dan jumlah atribut pada data set setelah penghapusan missing data\n",
    "print(\"Jumlah baris dan atribut setelah penghapusan missing data:\",dataNCHS_cleaned.shape)"
   ]
  },
  {
   "cell_type": "markdown",
   "id": "17abdd9d",
   "metadata": {},
   "source": [
    "### Tutorial-03"
   ]
  },
  {
   "cell_type": "markdown",
   "id": "4562e0bd",
   "metadata": {},
   "source": [
    "Hitung jumlah penyebab kematian sesuai tahapan berikut ini.\n",
    "- 1: Tampilkan daftar data unik penyebab kematian\n",
    "- 2: Eliminasi penyebab kematian dengan nilai \"All Causes\"\n",
    "- 3: Tampilkan jumlah penyebab kematian"
   ]
  },
  {
   "cell_type": "code",
   "execution_count": 13,
   "id": "895be1e8",
   "metadata": {},
   "outputs": [
    {
     "name": "stdout",
     "output_type": "stream",
     "text": [
      "Daftar data unik penyebab kematian:\n",
      "Unintentional Injuries\n",
      "All Causes\n",
      "Alzheimer's disease\n",
      "Homicide\n",
      "Stroke\n",
      "Chronic liver disease and cirrhosis\n",
      "CLRD\n",
      "Diabetes\n",
      "Diseases of Heart\n",
      "Essential hypertension and hypertensive renal disease\n",
      "Influenza and pneumonia\n",
      "Cancer\n",
      "Suicide\n",
      "Kidney Disease\n",
      "Parkinson's disease\n",
      "Pneumonitis due to solids and liquids\n",
      "Septicemia\n",
      "\n",
      "Jumlah penyebab kematian setelah eliminasi: 16\n"
     ]
    }
   ],
   "source": [
    "unique_causes = dataNCHS_cleaned[\"Cause Name\"].unique()\n",
    "\n",
    "#1. Menampilkan daftar unik penyebab kematian\n",
    "print(\"Daftar data unik penyebab kematian:\")\n",
    "for cause in unique_causes:\n",
    "    print(cause)\n",
    "    \n",
    "#2. Menghapus baris dengan nilai \"All Causes\" pada kolom \"Cause Name\"\n",
    "dataNCHS_filtered = dataNCHS_cleaned[dataNCHS_cleaned[\"Cause Name\"] != \"All Causes\"]\n",
    "\n",
    "#3. Menghitung dan menampilkan jumlah penyebab kematian setelah eliminasi\n",
    "total_causes = len(dataNCHS_filtered[\"Cause Name\"].unique())\n",
    "print()\n",
    "print(f\"Jumlah penyebab kematian setelah eliminasi: {total_causes}\")"
   ]
  },
  {
   "cell_type": "markdown",
   "id": "fad5a48c",
   "metadata": {},
   "source": [
    "### Tutorial-04"
   ]
  },
  {
   "cell_type": "markdown",
   "id": "60348f98",
   "metadata": {},
   "source": [
    "Hitung jumlah negara bagian yang terdapat di dalam data set ini sesuai tahapan berikut ini.\n",
    "- 1: Tampilkan daftar data unik negara bagian\n",
    "- 2: Eliminasi negara bagian dengan nilai \"United States\"\n",
    "- 3: Tampilkan jumlah negara bagian"
   ]
  },
  {
   "cell_type": "code",
   "execution_count": 17,
   "id": "374c58a1",
   "metadata": {},
   "outputs": [
    {
     "name": "stdout",
     "output_type": "stream",
     "text": [
      "Daftar data unik negara bagian:\n",
      "Alabama\n",
      "Alaska\n",
      "Arizona\n",
      "Arkansas\n",
      "California\n",
      "Colorado\n",
      "Connecticut\n",
      "Delaware\n",
      "District of Columbia\n",
      "Florida\n",
      "Georgia\n",
      "Hawaii\n",
      "Idaho\n",
      "Illinois\n",
      "Indiana\n",
      "Iowa\n",
      "Kansas\n",
      "Kentucky\n",
      "Louisiana\n",
      "Maine\n",
      "Maryland\n",
      "Massachusetts\n",
      "Michigan\n",
      "Minnesota\n",
      "Mississippi\n",
      "Missouri\n",
      "Montana\n",
      "Nebraska\n",
      "Nevada\n",
      "New Hampshire\n",
      "New Jersey\n",
      "New Mexico\n",
      "New York\n",
      "North Carolina\n",
      "North Dakota\n",
      "Ohio\n",
      "Oklahoma\n",
      "Oregon\n",
      "Pennsylvania\n",
      "Rhode Island\n",
      "South Carolina\n",
      "South Dakota\n",
      "Tennessee\n",
      "Texas\n",
      "Utah\n",
      "Vermont\n",
      "Virginia\n",
      "Washington\n",
      "West Virginia\n",
      "Wisconsin\n",
      "Wyoming\n",
      "\n",
      "Jumlah negara bagian setelah eliminasi: 51\n"
     ]
    }
   ],
   "source": [
    "unique_states = dataNCHS_filtered[\"State\"].unique()\n",
    "\n",
    "#1. Menampilkan daftar unik negara bagian\n",
    "print(\"Daftar data unik negara bagian:\")\n",
    "for state in unique_states:\n",
    "    print(state)\n",
    "\n",
    "#2. Menghapus baris dengan nilai \"United States\" pada kolom \"State\"\n",
    "dataNCHS_filtered = dataNCHS_filtered[dataNCHS_filtered[\"State\"] != \"United States\"]\n",
    "\n",
    "#3. Menghitung jumlah negara bagian setelah eliminasi\n",
    "total_states = len(dataNCHS_filtered[\"State\"].unique())\n",
    "print()\n",
    "print(f\"Jumlah negara bagian setelah eliminasi: {total_states}\")"
   ]
  }
 ],
 "metadata": {
  "kernelspec": {
   "display_name": "anaconda-2022.05-py39",
   "language": "python",
   "name": "conda-env-anaconda-2022.05-py39-py"
  },
  "language_info": {
   "codemirror_mode": {
    "name": "ipython",
    "version": 3
   },
   "file_extension": ".py",
   "mimetype": "text/x-python",
   "name": "python",
   "nbconvert_exporter": "python",
   "pygments_lexer": "ipython3",
   "version": "3.9.12"
  }
 },
 "nbformat": 4,
 "nbformat_minor": 5
}
