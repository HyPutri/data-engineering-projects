{
 "cells": [
  {
   "cell_type": "markdown",
   "id": "9c104dfb",
   "metadata": {},
   "source": [
    "# Tipe Data Collection/Sequence"
   ]
  },
  {
   "cell_type": "markdown",
   "id": "c6556430",
   "metadata": {},
   "source": [
    "Tipe data collection/sequence digunakan untuk menampung sekumpulan data secara terorganisir. Tuple merupakan contoh dari tipe data tersebut."
   ]
  },
  {
   "cell_type": "markdown",
   "id": "da362545",
   "metadata": {},
   "source": [
    "## Tuple"
   ]
  },
  {
   "cell_type": "markdown",
   "id": "28d3e5ad",
   "metadata": {},
   "source": [
    "Tipe data tuple juga berfungsi untuk menampung sekumpulan data. Tipe data tuple diawali dengan tanda kurung buka (\"(\"), setiap elemen di dalamnya dipisahkan dengan tanda koma (\",\"), dan ditutup dengan tanda kurung tutup (\")\"). Aturan indeks dan cara mengakses elemen pada sebuah tuple sama seperti pada list. Berbeda dengan tipe data list, tipe data tuple bersifat immutable yang berarti elemen pada tipe data tuple tidak dapat diubah setelah proses pendeklarasiannya."
   ]
  },
  {
   "cell_type": "markdown",
   "id": "fadf8bd3",
   "metadata": {},
   "source": [
    "### Tutorial-01:"
   ]
  },
  {
   "cell_type": "markdown",
   "id": "4bac7c44",
   "metadata": {},
   "source": [
    "Kerjakan sesuai tahapan berikut ini.\n",
    "- 1: Input data Januari sampai dengan Mei ke dalam variabel tuple_bulan\n",
    "- 2: Cetak elemen kedua dari tuple_bulan\n",
    "- 3: Cetak elemen kedua sampai dengan elemen keempat dari tuple_bulan\n",
    "- 4: Input kembali data Januari sampai dengan Juni ke dalam variabel tuple_bulan\n",
    "- 5: Cetak isi dari tuple_bulan\n",
    "- 6: Ubah nilai elemen pertama dari tuple_bulan menjadi 'Desember'"
   ]
  },
  {
   "cell_type": "code",
   "execution_count": 3,
   "id": "f2de749b",
   "metadata": {},
   "outputs": [
    {
     "name": "stdout",
     "output_type": "stream",
     "text": [
      "Elemen kedua dari tuple_bulan: Februari\n",
      "Elemen kedua sampai dengan elemen keempat dari tuple_bulan: ('Februari', 'Maret', 'April')\n",
      "Isi dari tuple_bulan: ('Januari', 'Februari', 'Maret', 'April', 'Mei', 'Juni')\n",
      "Isi tuple_bulan setelah mengubah elemen pertama: ('Desember', 'Februari', 'Maret', 'April', 'Mei', 'Juni')\n"
     ]
    }
   ],
   "source": [
    "tuple_bulan = ('Januari', 'Februari', 'Maret', 'April', 'Mei')\n",
    "\n",
    "print(\"Elemen kedua dari tuple_bulan:\", tuple_bulan[1])\n",
    "\n",
    "print(\"Elemen kedua sampai dengan elemen keempat dari tuple_bulan:\", tuple_bulan[1:4])\n",
    "\n",
    "tuple_bulan = tuple_bulan + ('Juni',)\n",
    "\n",
    "print(\"Isi dari tuple_bulan:\", tuple_bulan)\n",
    "\n",
    "tuple_bulan = ('Desember',) + tuple_bulan[1:]\n",
    "\n",
    "print(\"Isi tuple_bulan setelah mengubah elemen pertama:\", tuple_bulan)\n"
   ]
  },
  {
   "cell_type": "markdown",
   "id": "283df178",
   "metadata": {},
   "source": [
    "### Tutorial-02:"
   ]
  },
  {
   "cell_type": "markdown",
   "id": "a69bdfdb",
   "metadata": {},
   "source": [
    "Kembangkan sebuah aplikasi yang dapat menghitung total pengeluaran bulanan dari sebuah perusahaan ekspedisi. Biaya yang dikeluarkan sebesar 1,5 juta per mobil dalam sehari. Ekspedisi ini menerapkan aturan ganjil-genap untuk pengoperasian mobil. Mobil dengan nomor plat ganjil akan dioperasikan di tanggal ganjil, sebaliknya mobil dengan plat genap akan dioperasikan di tanggal genap.\n",
    "\n",
    "Catatan:\n",
    "- Nomor plat mobil: 8993, 2198, 2501, 2735, 3772, 4837, 9152\n",
    "- Nomor plat mobil disimpan dalam sebuah variabel tuple\n",
    "- Jumlah hari bulan di-input"
   ]
  },
  {
   "cell_type": "code",
   "execution_count": 5,
   "id": "a403c1d9",
   "metadata": {},
   "outputs": [
    {
     "name": "stdin",
     "output_type": "stream",
     "text": [
      "Masukkan jumlah hari dalam sebulan:  28\n"
     ]
    },
    {
     "name": "stdout",
     "output_type": "stream",
     "text": [
      "Total pengeluaran bulanan perusahaan ekspedisi adalah: 147,000,000.0 rupiah\n"
     ]
    }
   ],
   "source": [
    "nomor_plat = (8993, 2198, 2501, 2735, 3772, 4837, 9152)\n",
    "\n",
    "jumlah_hari = int(input(\"Masukkan jumlah hari dalam sebulan: \"))\n",
    "\n",
    "biaya_per_mobil_per_hari = 1.5e6  # 1,5 juta\n",
    "\n",
    "total_pengeluaran = 0\n",
    "\n",
    "for hari in range(1, jumlah_hari + 1):\n",
    "    if hari % 2 == 1:  #Hari ganjil\n",
    "        mobil_operasional = [plat for plat in nomor_plat if plat % 2 == 1]\n",
    "    else:  #Hari genap\n",
    "        mobil_operasional = [plat for plat in nomor_plat if plat % 2 == 0]\n",
    "    \n",
    "    biaya_harian = len(mobil_operasional) * biaya_per_mobil_per_hari\n",
    "    total_pengeluaran += biaya_harian\n",
    "\n",
    "print(f\"Total pengeluaran bulanan perusahaan ekspedisi adalah: {total_pengeluaran:,} rupiah\")"
   ]
  },
  {
   "cell_type": "markdown",
   "id": "69ba06e1",
   "metadata": {},
   "source": [
    "# Library Pandas"
   ]
  },
  {
   "cell_type": "markdown",
   "id": "b557b1d5",
   "metadata": {},
   "source": [
    "Pandas adalah library Python open source yang biasanya digunakan untuk kebutuhan analisis data. Pandas membuat Python supaya dapat bekerja dengan data yang berbentuk tabular, seperti spreadsheet dengan cara pemuatan data yang cepat, manipulasi data, menggabungkan data, serta berbagai fungsi yang lain. Di Pandas terdapat 2 kelas data baru yang digunakan sebagai struktur dari spreadsheet, yaitu Series dan Data Frame."
   ]
  },
  {
   "cell_type": "markdown",
   "id": "d2ca37e5",
   "metadata": {},
   "source": [
    "## Series"
   ]
  },
  {
   "cell_type": "markdown",
   "id": "17bd6ad4",
   "metadata": {},
   "source": [
    "Series merupakan satu kolom bagian dari tabel dataframe yang merupakan numpy array 1 dimensional sebagai basis datanya, terdiri dari 1 tipe data integer, string, float, dan sebagainya"
   ]
  },
  {
   "cell_type": "markdown",
   "id": "72b43690",
   "metadata": {},
   "source": [
    "### Tutorial-03:"
   ]
  },
  {
   "cell_type": "markdown",
   "id": "40e349c2",
   "metadata": {},
   "source": [
    "Kerjakan sesuai tahapan berikut ini.\n",
    "- 1: Impor library Pandas\n",
    "- 2: Buat sebuah series yang berisi bilangan 1, 2, 3, 4, 5, 6 dan disimpan ke dalam variabel S1\n",
    "- 3: Buat sebuah series yang berisi karakter a, b, c, d, e, f dan disimpan ke dalam variabel S2\n",
    "- 4: Lakukan penggabungan untuk kedua series tersebut\n",
    "- 5: Tampilkan hasil penggabungannya"
   ]
  },
  {
   "cell_type": "code",
   "execution_count": 7,
   "id": "d250e97c",
   "metadata": {},
   "outputs": [
    {
     "name": "stdout",
     "output_type": "stream",
     "text": [
      "   0  1\n",
      "0  1  a\n",
      "1  2  b\n",
      "2  3  c\n",
      "3  4  d\n",
      "4  5  e\n",
      "5  6  f\n"
     ]
    }
   ],
   "source": [
    "import pandas as pd\n",
    "\n",
    "S1 = pd.Series([1, 2, 3, 4, 5, 6])\n",
    "S2 = pd.Series(['a', 'b', 'c', 'd', 'e', 'f'])\n",
    "\n",
    "hasil_gabungan = pd.concat([S1, S2], axis=1)\n",
    "print(hasil_gabungan)"
   ]
  },
  {
   "cell_type": "markdown",
   "id": "fad660d2",
   "metadata": {},
   "source": [
    "### Tutorial-04:"
   ]
  },
  {
   "cell_type": "markdown",
   "id": "403125de",
   "metadata": {},
   "source": [
    "Kerjakan sesuai tahapan berikut ini.\n",
    "- 1: Impor library Numpy\n",
    "- 2: Buat sebuah series yang berisi nilai skalar 2.71 (nyatakan sebagai indeks x dan y) dan simpan ke dalam variabel A\n",
    "- 3: Cetak series A\n",
    "- 4: Buat sebuah series yang berisi array Numpy 1 dimensi bernilai 2.71, 3.14 (nyatakan sebagai indeks z dan y) dan simpan ke dalam variabel B\n",
    "- 5: Cetak series B\n",
    "- 6: Lakukan operasi aritmatika penjumlahan terhadap series A dan B dan tampilkan hasil penjumlahannya\n",
    "- 7: Periksa nilai null pada hasil penjumlahan series A dan B"
   ]
  },
  {
   "cell_type": "code",
   "execution_count": 13,
   "id": "721163ce",
   "metadata": {},
   "outputs": [
    {
     "name": "stdout",
     "output_type": "stream",
     "text": [
      "Array A:\n",
      "[2.71]\n",
      "\n",
      "Array B:\n",
      "[2.71 3.14]\n",
      "\n",
      "Hasil Penjumlahan:\n",
      "[5.42 5.85]\n"
     ]
    }
   ],
   "source": [
    "import numpy as np\n",
    "\n",
    "A = np.array([2.71])\n",
    "print(\"Array A:\")\n",
    "print(A)\n",
    "\n",
    "B = np.array([2.71, 3.14])\n",
    "print(\"\\nArray B:\")\n",
    "print(B)\n",
    "\n",
    "hasil_penjumlahan = A + B\n",
    "\n",
    "print(\"\\nHasil Penjumlahan:\")\n",
    "print(hasil_penjumlahan)\n"
   ]
  }
 ],
 "metadata": {
  "kernelspec": {
   "display_name": "anaconda-2022.05-py39",
   "language": "python",
   "name": "conda-env-anaconda-2022.05-py39-py"
  },
  "language_info": {
   "codemirror_mode": {
    "name": "ipython",
    "version": 3
   },
   "file_extension": ".py",
   "mimetype": "text/x-python",
   "name": "python",
   "nbconvert_exporter": "python",
   "pygments_lexer": "ipython3",
   "version": "3.9.12"
  }
 },
 "nbformat": 4,
 "nbformat_minor": 5
}
